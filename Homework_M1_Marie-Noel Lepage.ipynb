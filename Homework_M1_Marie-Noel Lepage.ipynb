{
  "nbformat": 4,
  "nbformat_minor": 0,
  "metadata": {
    "colab": {
      "name": "Homework M1.ipynb",
      "provenance": []
    },
    "kernelspec": {
      "name": "python3",
      "display_name": "Python 3"
    }
  },
  "cells": [
    {
      "cell_type": "markdown",
      "metadata": {
        "id": "FYGEbkRnQR3T"
      },
      "source": [
        "# Homework 1\n",
        "Create a small neural network in keras that classifies the different types of winee. They labels are the columns called \"Class\".\n",
        "\n",
        "Print the history of the neural network with the loss, validation loss, accuracy and validation accuracy"
      ]
    },
    {
      "cell_type": "code",
      "metadata": {
        "id": "IVgMwO9VO_jl",
        "colab": {
          "base_uri": "https://localhost:8080/"
        },
        "outputId": "5dc62b66-a0fc-4710-f5b7-905ccbb1772c"
      },
      "source": [
        "!wget https://storage.googleapis.com/nicksdemobucket/wines.csv"
      ],
      "execution_count": 1,
      "outputs": [
        {
          "output_type": "stream",
          "text": [
            "--2021-04-19 01:53:30--  https://storage.googleapis.com/nicksdemobucket/wines.csv\n",
            "Resolving storage.googleapis.com (storage.googleapis.com)... 74.125.137.128, 142.250.101.128, 2607:f8b0:4023:c03::80, ...\n",
            "Connecting to storage.googleapis.com (storage.googleapis.com)|74.125.137.128|:443... connected.\n",
            "HTTP request sent, awaiting response... 200 OK\n",
            "Length: 10957 (11K) [application/octet-stream]\n",
            "Saving to: ‘wines.csv’\n",
            "\n",
            "\rwines.csv             0%[                    ]       0  --.-KB/s               \rwines.csv           100%[===================>]  10.70K  --.-KB/s    in 0s      \n",
            "\n",
            "2021-04-19 01:53:30 (75.5 MB/s) - ‘wines.csv’ saved [10957/10957]\n",
            "\n"
          ],
          "name": "stdout"
        }
      ]
    },
    {
      "cell_type": "code",
      "metadata": {
        "id": "NzulNJMsVY_i"
      },
      "source": [
        "import pandas as pd\n",
        "from sklearn.model_selection import train_test_split\n",
        "import random\n",
        "random.seed(30)"
      ],
      "execution_count": 2,
      "outputs": []
    },
    {
      "cell_type": "code",
      "metadata": {
        "id": "poY3OUIoQFZC",
        "colab": {
          "base_uri": "https://localhost:8080/",
          "height": 197
        },
        "outputId": "1dd17ec7-1fe3-42bb-8baf-21720002b949"
      },
      "source": [
        "df = pd.read_csv('wines.csv')\n",
        "df.head()"
      ],
      "execution_count": 3,
      "outputs": [
        {
          "output_type": "execute_result",
          "data": {
            "text/html": [
              "<div>\n",
              "<style scoped>\n",
              "    .dataframe tbody tr th:only-of-type {\n",
              "        vertical-align: middle;\n",
              "    }\n",
              "\n",
              "    .dataframe tbody tr th {\n",
              "        vertical-align: top;\n",
              "    }\n",
              "\n",
              "    .dataframe thead th {\n",
              "        text-align: right;\n",
              "    }\n",
              "</style>\n",
              "<table border=\"1\" class=\"dataframe\">\n",
              "  <thead>\n",
              "    <tr style=\"text-align: right;\">\n",
              "      <th></th>\n",
              "      <th>Class</th>\n",
              "      <th>Alcohol</th>\n",
              "      <th>Malic_acid</th>\n",
              "      <th>Ash</th>\n",
              "      <th>Alcalinity_of_ash</th>\n",
              "      <th>Magnesium</th>\n",
              "      <th>Total_phenols</th>\n",
              "      <th>Flavanoids</th>\n",
              "      <th>Nonflavanoid_phenols</th>\n",
              "      <th>Proanthocyanins</th>\n",
              "      <th>Color_intensity</th>\n",
              "      <th>Hue</th>\n",
              "      <th>OD280-OD315_of_diluted_wines</th>\n",
              "      <th>Proline</th>\n",
              "    </tr>\n",
              "  </thead>\n",
              "  <tbody>\n",
              "    <tr>\n",
              "      <th>0</th>\n",
              "      <td>1</td>\n",
              "      <td>14.23</td>\n",
              "      <td>1.71</td>\n",
              "      <td>2.43</td>\n",
              "      <td>15.6</td>\n",
              "      <td>127</td>\n",
              "      <td>2.80</td>\n",
              "      <td>3.06</td>\n",
              "      <td>0.28</td>\n",
              "      <td>2.29</td>\n",
              "      <td>5.64</td>\n",
              "      <td>1.04</td>\n",
              "      <td>3.92</td>\n",
              "      <td>1065</td>\n",
              "    </tr>\n",
              "    <tr>\n",
              "      <th>1</th>\n",
              "      <td>1</td>\n",
              "      <td>13.20</td>\n",
              "      <td>1.78</td>\n",
              "      <td>2.14</td>\n",
              "      <td>11.2</td>\n",
              "      <td>100</td>\n",
              "      <td>2.65</td>\n",
              "      <td>2.76</td>\n",
              "      <td>0.26</td>\n",
              "      <td>1.28</td>\n",
              "      <td>4.38</td>\n",
              "      <td>1.05</td>\n",
              "      <td>3.40</td>\n",
              "      <td>1050</td>\n",
              "    </tr>\n",
              "    <tr>\n",
              "      <th>2</th>\n",
              "      <td>1</td>\n",
              "      <td>13.16</td>\n",
              "      <td>2.36</td>\n",
              "      <td>2.67</td>\n",
              "      <td>18.6</td>\n",
              "      <td>101</td>\n",
              "      <td>2.80</td>\n",
              "      <td>3.24</td>\n",
              "      <td>0.30</td>\n",
              "      <td>2.81</td>\n",
              "      <td>5.68</td>\n",
              "      <td>1.03</td>\n",
              "      <td>3.17</td>\n",
              "      <td>1185</td>\n",
              "    </tr>\n",
              "    <tr>\n",
              "      <th>3</th>\n",
              "      <td>1</td>\n",
              "      <td>14.37</td>\n",
              "      <td>1.95</td>\n",
              "      <td>2.50</td>\n",
              "      <td>16.8</td>\n",
              "      <td>113</td>\n",
              "      <td>3.85</td>\n",
              "      <td>3.49</td>\n",
              "      <td>0.24</td>\n",
              "      <td>2.18</td>\n",
              "      <td>7.80</td>\n",
              "      <td>0.86</td>\n",
              "      <td>3.45</td>\n",
              "      <td>1480</td>\n",
              "    </tr>\n",
              "    <tr>\n",
              "      <th>4</th>\n",
              "      <td>1</td>\n",
              "      <td>13.24</td>\n",
              "      <td>2.59</td>\n",
              "      <td>2.87</td>\n",
              "      <td>21.0</td>\n",
              "      <td>118</td>\n",
              "      <td>2.80</td>\n",
              "      <td>2.69</td>\n",
              "      <td>0.39</td>\n",
              "      <td>1.82</td>\n",
              "      <td>4.32</td>\n",
              "      <td>1.04</td>\n",
              "      <td>2.93</td>\n",
              "      <td>735</td>\n",
              "    </tr>\n",
              "  </tbody>\n",
              "</table>\n",
              "</div>"
            ],
            "text/plain": [
              "   Class  Alcohol  Malic_acid  ...   Hue  OD280-OD315_of_diluted_wines  Proline\n",
              "0      1    14.23        1.71  ...  1.04                          3.92     1065\n",
              "1      1    13.20        1.78  ...  1.05                          3.40     1050\n",
              "2      1    13.16        2.36  ...  1.03                          3.17     1185\n",
              "3      1    14.37        1.95  ...  0.86                          3.45     1480\n",
              "4      1    13.24        2.59  ...  1.04                          2.93      735\n",
              "\n",
              "[5 rows x 14 columns]"
            ]
          },
          "metadata": {
            "tags": []
          },
          "execution_count": 3
        }
      ]
    },
    {
      "cell_type": "code",
      "metadata": {
        "colab": {
          "base_uri": "https://localhost:8080/"
        },
        "id": "pAHxKAGKZwAm",
        "outputId": "af7af1b4-8461-4f33-fbda-1c00f149fc3d"
      },
      "source": [
        "# Check if we have NaN. No it's clean\n",
        "df.isnull().values.any()"
      ],
      "execution_count": 4,
      "outputs": [
        {
          "output_type": "execute_result",
          "data": {
            "text/plain": [
              "False"
            ]
          },
          "metadata": {
            "tags": []
          },
          "execution_count": 4
        }
      ]
    },
    {
      "cell_type": "code",
      "metadata": {
        "colab": {
          "base_uri": "https://localhost:8080/"
        },
        "id": "Udik5G630H_P",
        "outputId": "ea5062da-a78e-4a55-ef79-79732ffa2924"
      },
      "source": [
        "X = df.drop(['Class'], axis=1).values\n",
        "X.shape"
      ],
      "execution_count": 5,
      "outputs": [
        {
          "output_type": "execute_result",
          "data": {
            "text/plain": [
              "(178, 13)"
            ]
          },
          "metadata": {
            "tags": []
          },
          "execution_count": 5
        }
      ]
    },
    {
      "cell_type": "code",
      "metadata": {
        "colab": {
          "base_uri": "https://localhost:8080/"
        },
        "id": "GvWhaC9y0WKI",
        "outputId": "9ba65029-c37f-4efb-a25e-199e1685e6a7"
      },
      "source": [
        "y = df['Class'].values\n",
        "y.shape"
      ],
      "execution_count": 6,
      "outputs": [
        {
          "output_type": "execute_result",
          "data": {
            "text/plain": [
              "(178,)"
            ]
          },
          "metadata": {
            "tags": []
          },
          "execution_count": 6
        }
      ]
    },
    {
      "cell_type": "code",
      "metadata": {
        "colab": {
          "base_uri": "https://localhost:8080/"
        },
        "id": "e1y200ObETTu",
        "outputId": "3a9793b8-fb9e-4fd0-effe-121e52eed60e"
      },
      "source": [
        "y"
      ],
      "execution_count": 7,
      "outputs": [
        {
          "output_type": "execute_result",
          "data": {
            "text/plain": [
              "array([1, 1, 1, 1, 1, 1, 1, 1, 1, 1, 1, 1, 1, 1, 1, 1, 1, 1, 1, 1, 1, 1,\n",
              "       1, 1, 1, 1, 1, 1, 1, 1, 1, 1, 1, 1, 1, 1, 1, 1, 1, 1, 1, 1, 1, 1,\n",
              "       1, 1, 1, 1, 1, 1, 1, 1, 1, 1, 1, 1, 1, 1, 1, 2, 2, 2, 2, 2, 2, 2,\n",
              "       2, 2, 2, 2, 2, 2, 2, 2, 2, 2, 2, 2, 2, 2, 2, 2, 2, 2, 2, 2, 2, 2,\n",
              "       2, 2, 2, 2, 2, 2, 2, 2, 2, 2, 2, 2, 2, 2, 2, 2, 2, 2, 2, 2, 2, 2,\n",
              "       2, 2, 2, 2, 2, 2, 2, 2, 2, 2, 2, 2, 2, 2, 2, 2, 2, 2, 2, 2, 3, 3,\n",
              "       3, 3, 3, 3, 3, 3, 3, 3, 3, 3, 3, 3, 3, 3, 3, 3, 3, 3, 3, 3, 3, 3,\n",
              "       3, 3, 3, 3, 3, 3, 3, 3, 3, 3, 3, 3, 3, 3, 3, 3, 3, 3, 3, 3, 3, 3,\n",
              "       3, 3])"
            ]
          },
          "metadata": {
            "tags": []
          },
          "execution_count": 7
        }
      ]
    },
    {
      "cell_type": "code",
      "metadata": {
        "id": "vOWnN6NcGstu"
      },
      "source": [
        "x_train, x_test, y_train, y_test = train_test_split(X, y, test_size=0.10)"
      ],
      "execution_count": 8,
      "outputs": []
    },
    {
      "cell_type": "code",
      "metadata": {
        "id": "_DMc8E4o1m6Z"
      },
      "source": [
        "import numpy as np\n",
        "import tensorflow as tf\n",
        "from tensorflow import keras\n",
        "from tensorflow.keras import layers"
      ],
      "execution_count": 9,
      "outputs": []
    },
    {
      "cell_type": "code",
      "metadata": {
        "id": "P_sJeXeFIeFd"
      },
      "source": [
        "inputs = keras.Input(shape=(13,))\n",
        "x = inputs"
      ],
      "execution_count": 10,
      "outputs": []
    },
    {
      "cell_type": "code",
      "metadata": {
        "colab": {
          "base_uri": "https://localhost:8080/"
        },
        "id": "OLKqTlrwJVhS",
        "outputId": "b65e55c9-9cb9-41f9-a09e-630a49b36dac"
      },
      "source": [
        "x"
      ],
      "execution_count": 11,
      "outputs": [
        {
          "output_type": "execute_result",
          "data": {
            "text/plain": [
              "<KerasTensor: shape=(None, 13) dtype=float32 (created by layer 'input_1')>"
            ]
          },
          "metadata": {
            "tags": []
          },
          "execution_count": 11
        }
      ]
    },
    {
      "cell_type": "code",
      "metadata": {
        "id": "F2B-PDz1KkSM"
      },
      "source": [
        "x = layers.Dense(64, activation='relu')(x)\n",
        "x = layers.Dense(64, activation='relu')(x)\n",
        "x = layers.Dense(64, activation='relu')(x)\n",
        "\n",
        "outputs = layers.Dense(4, activation='softmax')(x)"
      ],
      "execution_count": 12,
      "outputs": []
    },
    {
      "cell_type": "code",
      "metadata": {
        "id": "zT6O5csIQsAg"
      },
      "source": [
        "model = keras.Model(inputs=inputs, outputs=outputs, name='wine_model')"
      ],
      "execution_count": 13,
      "outputs": []
    },
    {
      "cell_type": "code",
      "metadata": {
        "colab": {
          "base_uri": "https://localhost:8080/"
        },
        "id": "fKOaR5vLRMnR",
        "outputId": "0d5c65f6-82d2-4b11-b0aa-b7dba9327c3d"
      },
      "source": [
        "model.summary()"
      ],
      "execution_count": 14,
      "outputs": [
        {
          "output_type": "stream",
          "text": [
            "Model: \"wine_model\"\n",
            "_________________________________________________________________\n",
            "Layer (type)                 Output Shape              Param #   \n",
            "=================================================================\n",
            "input_1 (InputLayer)         [(None, 13)]              0         \n",
            "_________________________________________________________________\n",
            "dense (Dense)                (None, 64)                896       \n",
            "_________________________________________________________________\n",
            "dense_1 (Dense)              (None, 64)                4160      \n",
            "_________________________________________________________________\n",
            "dense_2 (Dense)              (None, 64)                4160      \n",
            "_________________________________________________________________\n",
            "dense_3 (Dense)              (None, 4)                 260       \n",
            "=================================================================\n",
            "Total params: 9,476\n",
            "Trainable params: 9,476\n",
            "Non-trainable params: 0\n",
            "_________________________________________________________________\n"
          ],
          "name": "stdout"
        }
      ]
    },
    {
      "cell_type": "code",
      "metadata": {
        "id": "GL8CubFX1ntg"
      },
      "source": [
        "model.compile(optimizer=keras.optimizers.Adam(),\n",
        "             loss='sparse_categorical_crossentropy',\n",
        "              metrics=['accuracy'])"
      ],
      "execution_count": 15,
      "outputs": []
    },
    {
      "cell_type": "code",
      "metadata": {
        "colab": {
          "base_uri": "https://localhost:8080/"
        },
        "id": "nlKcS7cm14_d",
        "outputId": "c82aa4f3-3c9b-4ef1-cbad-14b8eb181470"
      },
      "source": [
        "h = model.fit(x_train, y_train, epochs=250, batch_size=64, validation_split=0.2)"
      ],
      "execution_count": 16,
      "outputs": [
        {
          "output_type": "stream",
          "text": [
            "Epoch 1/250\n",
            "2/2 [==============================] - 1s 449ms/step - loss: 32.3051 - accuracy: 0.2396 - val_loss: 3.8573 - val_accuracy: 0.3125\n",
            "Epoch 2/250\n",
            "2/2 [==============================] - 0s 30ms/step - loss: 3.5433 - accuracy: 0.4531 - val_loss: 12.3035 - val_accuracy: 0.4375\n",
            "Epoch 3/250\n",
            "2/2 [==============================] - 0s 30ms/step - loss: 8.7970 - accuracy: 0.4583 - val_loss: 13.6848 - val_accuracy: 0.3750\n",
            "Epoch 4/250\n",
            "2/2 [==============================] - 0s 30ms/step - loss: 9.3882 - accuracy: 0.5000 - val_loss: 15.5868 - val_accuracy: 0.1875\n",
            "Epoch 5/250\n",
            "2/2 [==============================] - 0s 31ms/step - loss: 9.6432 - accuracy: 0.4635 - val_loss: 11.7138 - val_accuracy: 0.5000\n",
            "Epoch 6/250\n",
            "2/2 [==============================] - 0s 33ms/step - loss: 7.4324 - accuracy: 0.6406 - val_loss: 10.4206 - val_accuracy: 0.5000\n",
            "Epoch 7/250\n",
            "2/2 [==============================] - 0s 34ms/step - loss: 6.9630 - accuracy: 0.5260 - val_loss: 5.2292 - val_accuracy: 0.4375\n",
            "Epoch 8/250\n",
            "2/2 [==============================] - 0s 39ms/step - loss: 3.4725 - accuracy: 0.5885 - val_loss: 1.9685 - val_accuracy: 0.4688\n",
            "Epoch 9/250\n",
            "2/2 [==============================] - 0s 34ms/step - loss: 2.0515 - accuracy: 0.5417 - val_loss: 3.0215 - val_accuracy: 0.4688\n",
            "Epoch 10/250\n",
            "2/2 [==============================] - 0s 29ms/step - loss: 4.0454 - accuracy: 0.2760 - val_loss: 1.3636 - val_accuracy: 0.5625\n",
            "Epoch 11/250\n",
            "2/2 [==============================] - 0s 28ms/step - loss: 1.3670 - accuracy: 0.5260 - val_loss: 2.1544 - val_accuracy: 0.5000\n",
            "Epoch 12/250\n",
            "2/2 [==============================] - 0s 28ms/step - loss: 1.7093 - accuracy: 0.6510 - val_loss: 3.7089 - val_accuracy: 0.5000\n",
            "Epoch 13/250\n",
            "2/2 [==============================] - 0s 38ms/step - loss: 2.4387 - accuracy: 0.6667 - val_loss: 3.6525 - val_accuracy: 0.5000\n",
            "Epoch 14/250\n",
            "2/2 [==============================] - 0s 34ms/step - loss: 2.3112 - accuracy: 0.6615 - val_loss: 2.5472 - val_accuracy: 0.4688\n",
            "Epoch 15/250\n",
            "2/2 [==============================] - 0s 31ms/step - loss: 1.7384 - accuracy: 0.6354 - val_loss: 0.8007 - val_accuracy: 0.7500\n",
            "Epoch 16/250\n",
            "2/2 [==============================] - 0s 33ms/step - loss: 0.9166 - accuracy: 0.6458 - val_loss: 1.1374 - val_accuracy: 0.5625\n",
            "Epoch 17/250\n",
            "2/2 [==============================] - 0s 36ms/step - loss: 1.5962 - accuracy: 0.4375 - val_loss: 0.6265 - val_accuracy: 0.7812\n",
            "Epoch 18/250\n",
            "2/2 [==============================] - 0s 29ms/step - loss: 0.8385 - accuracy: 0.7031 - val_loss: 1.1697 - val_accuracy: 0.5000\n",
            "Epoch 19/250\n",
            "2/2 [==============================] - 0s 29ms/step - loss: 0.9781 - accuracy: 0.6406 - val_loss: 1.3132 - val_accuracy: 0.5000\n",
            "Epoch 20/250\n",
            "2/2 [==============================] - 0s 29ms/step - loss: 1.1379 - accuracy: 0.6354 - val_loss: 0.8197 - val_accuracy: 0.7500\n",
            "Epoch 21/250\n",
            "2/2 [==============================] - 0s 29ms/step - loss: 0.6706 - accuracy: 0.7448 - val_loss: 0.6050 - val_accuracy: 0.7500\n",
            "Epoch 22/250\n",
            "2/2 [==============================] - 0s 33ms/step - loss: 0.8818 - accuracy: 0.7240 - val_loss: 0.6207 - val_accuracy: 0.7500\n",
            "Epoch 23/250\n",
            "2/2 [==============================] - 0s 32ms/step - loss: 0.8639 - accuracy: 0.7344 - val_loss: 0.6396 - val_accuracy: 0.8125\n",
            "Epoch 24/250\n",
            "2/2 [==============================] - 0s 29ms/step - loss: 0.7521 - accuracy: 0.6927 - val_loss: 0.8921 - val_accuracy: 0.6875\n",
            "Epoch 25/250\n",
            "2/2 [==============================] - 0s 31ms/step - loss: 0.8574 - accuracy: 0.6667 - val_loss: 0.7846 - val_accuracy: 0.7188\n",
            "Epoch 26/250\n",
            "2/2 [==============================] - 0s 33ms/step - loss: 0.7571 - accuracy: 0.7083 - val_loss: 0.6157 - val_accuracy: 0.8125\n",
            "Epoch 27/250\n",
            "2/2 [==============================] - 0s 30ms/step - loss: 0.6896 - accuracy: 0.7969 - val_loss: 0.6066 - val_accuracy: 0.6875\n",
            "Epoch 28/250\n",
            "2/2 [==============================] - 0s 29ms/step - loss: 0.8093 - accuracy: 0.6875 - val_loss: 0.6406 - val_accuracy: 0.7500\n",
            "Epoch 29/250\n",
            "2/2 [==============================] - 0s 35ms/step - loss: 0.6787 - accuracy: 0.7500 - val_loss: 0.7990 - val_accuracy: 0.7188\n",
            "Epoch 30/250\n",
            "2/2 [==============================] - 0s 40ms/step - loss: 0.7412 - accuracy: 0.7188 - val_loss: 0.7689 - val_accuracy: 0.7188\n",
            "Epoch 31/250\n",
            "2/2 [==============================] - 0s 33ms/step - loss: 0.7601 - accuracy: 0.7240 - val_loss: 0.6136 - val_accuracy: 0.7500\n",
            "Epoch 32/250\n",
            "2/2 [==============================] - 0s 35ms/step - loss: 0.7179 - accuracy: 0.7604 - val_loss: 0.6420 - val_accuracy: 0.6875\n",
            "Epoch 33/250\n",
            "2/2 [==============================] - 0s 29ms/step - loss: 0.6926 - accuracy: 0.7188 - val_loss: 0.6975 - val_accuracy: 0.7812\n",
            "Epoch 34/250\n",
            "2/2 [==============================] - 0s 33ms/step - loss: 0.7197 - accuracy: 0.7344 - val_loss: 0.8155 - val_accuracy: 0.6875\n",
            "Epoch 35/250\n",
            "2/2 [==============================] - 0s 31ms/step - loss: 0.6510 - accuracy: 0.7448 - val_loss: 0.6786 - val_accuracy: 0.7188\n",
            "Epoch 36/250\n",
            "2/2 [==============================] - 0s 33ms/step - loss: 0.7230 - accuracy: 0.7083 - val_loss: 0.6423 - val_accuracy: 0.6875\n",
            "Epoch 37/250\n",
            "2/2 [==============================] - 0s 32ms/step - loss: 0.6556 - accuracy: 0.7448 - val_loss: 0.6516 - val_accuracy: 0.7812\n",
            "Epoch 38/250\n",
            "2/2 [==============================] - 0s 33ms/step - loss: 0.6367 - accuracy: 0.7604 - val_loss: 0.7142 - val_accuracy: 0.7812\n",
            "Epoch 39/250\n",
            "2/2 [==============================] - 0s 30ms/step - loss: 0.7000 - accuracy: 0.7344 - val_loss: 0.6983 - val_accuracy: 0.6875\n",
            "Epoch 40/250\n",
            "2/2 [==============================] - 0s 34ms/step - loss: 0.7232 - accuracy: 0.7135 - val_loss: 0.6389 - val_accuracy: 0.7812\n",
            "Epoch 41/250\n",
            "2/2 [==============================] - 0s 34ms/step - loss: 0.6340 - accuracy: 0.7917 - val_loss: 0.6048 - val_accuracy: 0.7500\n",
            "Epoch 42/250\n",
            "2/2 [==============================] - 0s 30ms/step - loss: 0.6565 - accuracy: 0.7656 - val_loss: 0.6464 - val_accuracy: 0.6875\n",
            "Epoch 43/250\n",
            "2/2 [==============================] - 0s 36ms/step - loss: 0.6504 - accuracy: 0.7240 - val_loss: 0.6954 - val_accuracy: 0.7188\n",
            "Epoch 44/250\n",
            "2/2 [==============================] - 0s 30ms/step - loss: 0.6651 - accuracy: 0.7604 - val_loss: 0.6167 - val_accuracy: 0.7812\n",
            "Epoch 45/250\n",
            "2/2 [==============================] - 0s 35ms/step - loss: 0.6236 - accuracy: 0.8073 - val_loss: 0.5985 - val_accuracy: 0.7812\n",
            "Epoch 46/250\n",
            "2/2 [==============================] - 0s 33ms/step - loss: 0.5714 - accuracy: 0.7865 - val_loss: 0.5970 - val_accuracy: 0.7500\n",
            "Epoch 47/250\n",
            "2/2 [==============================] - 0s 33ms/step - loss: 0.5991 - accuracy: 0.7604 - val_loss: 0.6461 - val_accuracy: 0.7812\n",
            "Epoch 48/250\n",
            "2/2 [==============================] - 0s 33ms/step - loss: 0.5966 - accuracy: 0.8281 - val_loss: 0.6308 - val_accuracy: 0.8125\n",
            "Epoch 49/250\n",
            "2/2 [==============================] - 0s 35ms/step - loss: 0.5985 - accuracy: 0.7917 - val_loss: 0.5959 - val_accuracy: 0.7812\n",
            "Epoch 50/250\n",
            "2/2 [==============================] - 0s 30ms/step - loss: 0.5985 - accuracy: 0.8125 - val_loss: 0.5926 - val_accuracy: 0.7812\n",
            "Epoch 51/250\n",
            "2/2 [==============================] - 0s 33ms/step - loss: 0.6010 - accuracy: 0.7969 - val_loss: 0.6088 - val_accuracy: 0.7812\n",
            "Epoch 52/250\n",
            "2/2 [==============================] - 0s 40ms/step - loss: 0.6129 - accuracy: 0.7917 - val_loss: 0.6281 - val_accuracy: 0.7812\n",
            "Epoch 53/250\n",
            "2/2 [==============================] - 0s 30ms/step - loss: 0.6188 - accuracy: 0.7656 - val_loss: 0.5910 - val_accuracy: 0.7812\n",
            "Epoch 54/250\n",
            "2/2 [==============================] - 0s 32ms/step - loss: 0.6258 - accuracy: 0.7656 - val_loss: 0.5928 - val_accuracy: 0.7812\n",
            "Epoch 55/250\n",
            "2/2 [==============================] - 0s 40ms/step - loss: 0.6220 - accuracy: 0.7917 - val_loss: 0.5948 - val_accuracy: 0.7812\n",
            "Epoch 56/250\n",
            "2/2 [==============================] - 0s 32ms/step - loss: 0.5876 - accuracy: 0.7917 - val_loss: 0.5958 - val_accuracy: 0.7812\n",
            "Epoch 57/250\n",
            "2/2 [==============================] - 0s 29ms/step - loss: 0.5724 - accuracy: 0.7969 - val_loss: 0.5927 - val_accuracy: 0.7500\n",
            "Epoch 58/250\n",
            "2/2 [==============================] - 0s 41ms/step - loss: 0.5951 - accuracy: 0.8125 - val_loss: 0.5895 - val_accuracy: 0.7812\n",
            "Epoch 59/250\n",
            "2/2 [==============================] - 0s 34ms/step - loss: 0.6076 - accuracy: 0.8229 - val_loss: 0.5819 - val_accuracy: 0.7812\n",
            "Epoch 60/250\n",
            "2/2 [==============================] - 0s 31ms/step - loss: 0.5721 - accuracy: 0.8229 - val_loss: 0.5597 - val_accuracy: 0.7812\n",
            "Epoch 61/250\n",
            "2/2 [==============================] - 0s 29ms/step - loss: 0.6130 - accuracy: 0.7552 - val_loss: 0.5837 - val_accuracy: 0.7812\n",
            "Epoch 62/250\n",
            "2/2 [==============================] - 0s 36ms/step - loss: 0.5626 - accuracy: 0.8125 - val_loss: 0.6226 - val_accuracy: 0.7812\n",
            "Epoch 63/250\n",
            "2/2 [==============================] - 0s 30ms/step - loss: 0.5656 - accuracy: 0.7917 - val_loss: 0.5629 - val_accuracy: 0.7500\n",
            "Epoch 64/250\n",
            "2/2 [==============================] - 0s 31ms/step - loss: 0.6374 - accuracy: 0.7552 - val_loss: 0.5530 - val_accuracy: 0.7812\n",
            "Epoch 65/250\n",
            "2/2 [==============================] - 0s 34ms/step - loss: 0.5986 - accuracy: 0.7812 - val_loss: 0.6498 - val_accuracy: 0.6875\n",
            "Epoch 66/250\n",
            "2/2 [==============================] - 0s 36ms/step - loss: 0.6302 - accuracy: 0.7552 - val_loss: 0.5757 - val_accuracy: 0.7188\n",
            "Epoch 67/250\n",
            "2/2 [==============================] - 0s 41ms/step - loss: 0.5909 - accuracy: 0.7604 - val_loss: 0.5723 - val_accuracy: 0.7812\n",
            "Epoch 68/250\n",
            "2/2 [==============================] - 0s 38ms/step - loss: 0.5413 - accuracy: 0.8333 - val_loss: 0.6114 - val_accuracy: 0.7500\n",
            "Epoch 69/250\n",
            "2/2 [==============================] - 0s 31ms/step - loss: 0.5821 - accuracy: 0.7865 - val_loss: 0.5596 - val_accuracy: 0.7188\n",
            "Epoch 70/250\n",
            "2/2 [==============================] - 0s 34ms/step - loss: 0.5789 - accuracy: 0.7552 - val_loss: 0.5609 - val_accuracy: 0.7812\n",
            "Epoch 71/250\n",
            "2/2 [==============================] - 0s 34ms/step - loss: 0.5720 - accuracy: 0.8021 - val_loss: 0.6412 - val_accuracy: 0.6875\n",
            "Epoch 72/250\n",
            "2/2 [==============================] - 0s 36ms/step - loss: 0.6331 - accuracy: 0.7552 - val_loss: 0.5461 - val_accuracy: 0.7188\n",
            "Epoch 73/250\n",
            "2/2 [==============================] - 0s 30ms/step - loss: 0.5632 - accuracy: 0.7917 - val_loss: 0.5429 - val_accuracy: 0.7812\n",
            "Epoch 74/250\n",
            "2/2 [==============================] - 0s 33ms/step - loss: 0.6509 - accuracy: 0.7396 - val_loss: 0.5663 - val_accuracy: 0.7812\n",
            "Epoch 75/250\n",
            "2/2 [==============================] - 0s 33ms/step - loss: 0.6194 - accuracy: 0.7812 - val_loss: 0.5392 - val_accuracy: 0.7812\n",
            "Epoch 76/250\n",
            "2/2 [==============================] - 0s 32ms/step - loss: 0.5534 - accuracy: 0.7865 - val_loss: 0.6041 - val_accuracy: 0.7188\n",
            "Epoch 77/250\n",
            "2/2 [==============================] - 0s 34ms/step - loss: 0.6100 - accuracy: 0.7240 - val_loss: 0.5901 - val_accuracy: 0.7500\n",
            "Epoch 78/250\n",
            "2/2 [==============================] - 0s 34ms/step - loss: 0.6156 - accuracy: 0.7760 - val_loss: 0.5379 - val_accuracy: 0.8125\n",
            "Epoch 79/250\n",
            "2/2 [==============================] - 0s 35ms/step - loss: 0.5613 - accuracy: 0.7969 - val_loss: 0.5741 - val_accuracy: 0.7188\n",
            "Epoch 80/250\n",
            "2/2 [==============================] - 0s 29ms/step - loss: 0.5731 - accuracy: 0.7865 - val_loss: 0.6146 - val_accuracy: 0.6875\n",
            "Epoch 81/250\n",
            "2/2 [==============================] - 0s 29ms/step - loss: 0.5572 - accuracy: 0.7656 - val_loss: 0.5355 - val_accuracy: 0.7812\n",
            "Epoch 82/250\n",
            "2/2 [==============================] - 0s 34ms/step - loss: 0.5576 - accuracy: 0.8073 - val_loss: 0.5317 - val_accuracy: 0.7188\n",
            "Epoch 83/250\n",
            "2/2 [==============================] - 0s 31ms/step - loss: 0.5448 - accuracy: 0.7552 - val_loss: 0.5375 - val_accuracy: 0.8125\n",
            "Epoch 84/250\n",
            "2/2 [==============================] - 0s 30ms/step - loss: 0.5044 - accuracy: 0.8073 - val_loss: 0.5803 - val_accuracy: 0.8438\n",
            "Epoch 85/250\n",
            "2/2 [==============================] - 0s 35ms/step - loss: 0.5642 - accuracy: 0.7604 - val_loss: 0.4925 - val_accuracy: 0.8438\n",
            "Epoch 86/250\n",
            "2/2 [==============================] - 0s 37ms/step - loss: 0.4900 - accuracy: 0.8333 - val_loss: 0.4777 - val_accuracy: 0.8125\n",
            "Epoch 87/250\n",
            "2/2 [==============================] - 0s 32ms/step - loss: 0.5432 - accuracy: 0.7865 - val_loss: 0.4835 - val_accuracy: 0.8438\n",
            "Epoch 88/250\n",
            "2/2 [==============================] - 0s 34ms/step - loss: 0.4762 - accuracy: 0.8490 - val_loss: 0.5406 - val_accuracy: 0.7812\n",
            "Epoch 89/250\n",
            "2/2 [==============================] - 0s 35ms/step - loss: 0.5074 - accuracy: 0.8229 - val_loss: 0.4617 - val_accuracy: 0.8438\n",
            "Epoch 90/250\n",
            "2/2 [==============================] - 0s 31ms/step - loss: 0.5414 - accuracy: 0.7969 - val_loss: 0.4651 - val_accuracy: 0.8438\n",
            "Epoch 91/250\n",
            "2/2 [==============================] - 0s 29ms/step - loss: 0.5422 - accuracy: 0.7812 - val_loss: 0.5474 - val_accuracy: 0.7812\n",
            "Epoch 92/250\n",
            "2/2 [==============================] - 0s 30ms/step - loss: 0.5547 - accuracy: 0.7760 - val_loss: 0.4917 - val_accuracy: 0.7812\n",
            "Epoch 93/250\n",
            "2/2 [==============================] - 0s 45ms/step - loss: 0.5211 - accuracy: 0.8229 - val_loss: 0.4593 - val_accuracy: 0.7500\n",
            "Epoch 94/250\n",
            "2/2 [==============================] - 0s 31ms/step - loss: 0.5142 - accuracy: 0.7865 - val_loss: 0.5594 - val_accuracy: 0.8125\n",
            "Epoch 95/250\n",
            "2/2 [==============================] - 0s 31ms/step - loss: 0.5360 - accuracy: 0.7917 - val_loss: 0.5090 - val_accuracy: 0.8438\n",
            "Epoch 96/250\n",
            "2/2 [==============================] - 0s 34ms/step - loss: 0.4720 - accuracy: 0.8333 - val_loss: 0.4633 - val_accuracy: 0.7188\n",
            "Epoch 97/250\n",
            "2/2 [==============================] - 0s 34ms/step - loss: 0.4575 - accuracy: 0.8177 - val_loss: 0.5026 - val_accuracy: 0.7812\n",
            "Epoch 98/250\n",
            "2/2 [==============================] - 0s 30ms/step - loss: 0.5436 - accuracy: 0.7708 - val_loss: 0.5130 - val_accuracy: 0.8438\n",
            "Epoch 99/250\n",
            "2/2 [==============================] - 0s 34ms/step - loss: 0.5724 - accuracy: 0.7500 - val_loss: 0.5092 - val_accuracy: 0.7188\n",
            "Epoch 100/250\n",
            "2/2 [==============================] - 0s 31ms/step - loss: 0.4687 - accuracy: 0.7969 - val_loss: 0.5407 - val_accuracy: 0.7188\n",
            "Epoch 101/250\n",
            "2/2 [==============================] - 0s 39ms/step - loss: 0.5411 - accuracy: 0.8385 - val_loss: 0.5430 - val_accuracy: 0.7500\n",
            "Epoch 102/250\n",
            "2/2 [==============================] - 0s 37ms/step - loss: 0.5565 - accuracy: 0.7552 - val_loss: 0.4431 - val_accuracy: 0.8438\n",
            "Epoch 103/250\n",
            "2/2 [==============================] - 0s 38ms/step - loss: 0.5203 - accuracy: 0.8229 - val_loss: 0.4857 - val_accuracy: 0.7812\n",
            "Epoch 104/250\n",
            "2/2 [==============================] - 0s 33ms/step - loss: 0.4953 - accuracy: 0.8073 - val_loss: 0.4780 - val_accuracy: 0.7812\n",
            "Epoch 105/250\n",
            "2/2 [==============================] - 0s 32ms/step - loss: 0.5236 - accuracy: 0.7865 - val_loss: 0.4418 - val_accuracy: 0.8438\n",
            "Epoch 106/250\n",
            "2/2 [==============================] - 0s 38ms/step - loss: 0.4580 - accuracy: 0.8333 - val_loss: 0.4890 - val_accuracy: 0.8438\n",
            "Epoch 107/250\n",
            "2/2 [==============================] - 0s 37ms/step - loss: 0.4598 - accuracy: 0.8021 - val_loss: 0.4737 - val_accuracy: 0.8125\n",
            "Epoch 108/250\n",
            "2/2 [==============================] - 0s 31ms/step - loss: 0.4551 - accuracy: 0.8333 - val_loss: 0.4238 - val_accuracy: 0.8750\n",
            "Epoch 109/250\n",
            "2/2 [==============================] - 0s 36ms/step - loss: 0.4608 - accuracy: 0.8281 - val_loss: 0.4418 - val_accuracy: 0.8438\n",
            "Epoch 110/250\n",
            "2/2 [==============================] - 0s 33ms/step - loss: 0.4546 - accuracy: 0.8333 - val_loss: 0.4877 - val_accuracy: 0.8125\n",
            "Epoch 111/250\n",
            "2/2 [==============================] - 0s 35ms/step - loss: 0.4794 - accuracy: 0.8177 - val_loss: 0.4180 - val_accuracy: 0.8438\n",
            "Epoch 112/250\n",
            "2/2 [==============================] - 0s 34ms/step - loss: 0.4487 - accuracy: 0.8490 - val_loss: 0.4265 - val_accuracy: 0.8438\n",
            "Epoch 113/250\n",
            "2/2 [==============================] - 0s 31ms/step - loss: 0.4647 - accuracy: 0.8385 - val_loss: 0.4363 - val_accuracy: 0.8438\n",
            "Epoch 114/250\n",
            "2/2 [==============================] - 0s 32ms/step - loss: 0.4447 - accuracy: 0.8385 - val_loss: 0.4506 - val_accuracy: 0.8438\n",
            "Epoch 115/250\n",
            "2/2 [==============================] - 0s 31ms/step - loss: 0.4145 - accuracy: 0.8438 - val_loss: 0.4160 - val_accuracy: 0.8438\n",
            "Epoch 116/250\n",
            "2/2 [==============================] - 0s 29ms/step - loss: 0.4722 - accuracy: 0.8542 - val_loss: 0.4409 - val_accuracy: 0.8125\n",
            "Epoch 117/250\n",
            "2/2 [==============================] - 0s 39ms/step - loss: 0.4478 - accuracy: 0.8490 - val_loss: 0.4223 - val_accuracy: 0.8125\n",
            "Epoch 118/250\n",
            "2/2 [==============================] - 0s 34ms/step - loss: 0.4467 - accuracy: 0.8750 - val_loss: 0.4278 - val_accuracy: 0.7812\n",
            "Epoch 119/250\n",
            "2/2 [==============================] - 0s 37ms/step - loss: 0.4758 - accuracy: 0.8125 - val_loss: 0.4658 - val_accuracy: 0.8438\n",
            "Epoch 120/250\n",
            "2/2 [==============================] - 0s 36ms/step - loss: 0.4422 - accuracy: 0.8385 - val_loss: 0.4233 - val_accuracy: 0.9062\n",
            "Epoch 121/250\n",
            "2/2 [==============================] - 0s 38ms/step - loss: 0.4588 - accuracy: 0.8229 - val_loss: 0.4475 - val_accuracy: 0.8125\n",
            "Epoch 122/250\n",
            "2/2 [==============================] - 0s 35ms/step - loss: 0.4479 - accuracy: 0.8177 - val_loss: 0.4549 - val_accuracy: 0.8438\n",
            "Epoch 123/250\n",
            "2/2 [==============================] - 0s 31ms/step - loss: 0.4513 - accuracy: 0.8490 - val_loss: 0.4910 - val_accuracy: 0.8125\n",
            "Epoch 124/250\n",
            "2/2 [==============================] - 0s 37ms/step - loss: 0.5922 - accuracy: 0.7760 - val_loss: 0.4518 - val_accuracy: 0.7188\n",
            "Epoch 125/250\n",
            "2/2 [==============================] - 0s 34ms/step - loss: 0.5676 - accuracy: 0.7865 - val_loss: 0.4308 - val_accuracy: 0.9062\n",
            "Epoch 126/250\n",
            "2/2 [==============================] - 0s 32ms/step - loss: 0.5067 - accuracy: 0.8281 - val_loss: 0.6593 - val_accuracy: 0.7500\n",
            "Epoch 127/250\n",
            "2/2 [==============================] - 0s 32ms/step - loss: 0.5804 - accuracy: 0.7760 - val_loss: 0.4519 - val_accuracy: 0.8438\n",
            "Epoch 128/250\n",
            "2/2 [==============================] - 0s 33ms/step - loss: 0.4632 - accuracy: 0.8229 - val_loss: 0.3842 - val_accuracy: 0.8750\n",
            "Epoch 129/250\n",
            "2/2 [==============================] - 0s 30ms/step - loss: 0.4448 - accuracy: 0.8281 - val_loss: 0.4452 - val_accuracy: 0.8438\n",
            "Epoch 130/250\n",
            "2/2 [==============================] - 0s 33ms/step - loss: 0.4396 - accuracy: 0.8542 - val_loss: 0.3944 - val_accuracy: 0.8438\n",
            "Epoch 131/250\n",
            "2/2 [==============================] - 0s 40ms/step - loss: 0.3784 - accuracy: 0.8542 - val_loss: 0.3762 - val_accuracy: 0.8750\n",
            "Epoch 132/250\n",
            "2/2 [==============================] - 0s 34ms/step - loss: 0.4094 - accuracy: 0.8542 - val_loss: 0.4472 - val_accuracy: 0.8125\n",
            "Epoch 133/250\n",
            "2/2 [==============================] - 0s 33ms/step - loss: 0.4454 - accuracy: 0.8229 - val_loss: 0.3827 - val_accuracy: 0.8438\n",
            "Epoch 134/250\n",
            "2/2 [==============================] - 0s 32ms/step - loss: 0.4112 - accuracy: 0.8750 - val_loss: 0.3599 - val_accuracy: 0.8750\n",
            "Epoch 135/250\n",
            "2/2 [==============================] - 0s 32ms/step - loss: 0.4163 - accuracy: 0.8698 - val_loss: 0.4915 - val_accuracy: 0.8125\n",
            "Epoch 136/250\n",
            "2/2 [==============================] - 0s 33ms/step - loss: 0.4492 - accuracy: 0.8125 - val_loss: 0.3649 - val_accuracy: 0.8750\n",
            "Epoch 137/250\n",
            "2/2 [==============================] - 0s 52ms/step - loss: 0.3517 - accuracy: 0.9010 - val_loss: 0.3912 - val_accuracy: 0.8438\n",
            "Epoch 138/250\n",
            "2/2 [==============================] - 0s 32ms/step - loss: 0.3887 - accuracy: 0.8438 - val_loss: 0.4316 - val_accuracy: 0.8438\n",
            "Epoch 139/250\n",
            "2/2 [==============================] - 0s 32ms/step - loss: 0.4060 - accuracy: 0.8646 - val_loss: 0.3583 - val_accuracy: 0.8750\n",
            "Epoch 140/250\n",
            "2/2 [==============================] - 0s 39ms/step - loss: 0.4162 - accuracy: 0.8594 - val_loss: 0.3820 - val_accuracy: 0.8438\n",
            "Epoch 141/250\n",
            "2/2 [==============================] - 0s 33ms/step - loss: 0.3859 - accuracy: 0.8438 - val_loss: 0.5197 - val_accuracy: 0.7188\n",
            "Epoch 142/250\n",
            "2/2 [==============================] - 0s 31ms/step - loss: 0.4364 - accuracy: 0.8333 - val_loss: 0.4120 - val_accuracy: 0.7500\n",
            "Epoch 143/250\n",
            "2/2 [==============================] - 0s 35ms/step - loss: 0.5055 - accuracy: 0.7604 - val_loss: 0.3858 - val_accuracy: 0.8438\n",
            "Epoch 144/250\n",
            "2/2 [==============================] - 0s 36ms/step - loss: 0.3979 - accuracy: 0.8385 - val_loss: 0.5767 - val_accuracy: 0.7188\n",
            "Epoch 145/250\n",
            "2/2 [==============================] - 0s 33ms/step - loss: 0.5137 - accuracy: 0.7812 - val_loss: 0.4270 - val_accuracy: 0.7500\n",
            "Epoch 146/250\n",
            "2/2 [==============================] - 0s 34ms/step - loss: 0.4326 - accuracy: 0.8385 - val_loss: 0.3997 - val_accuracy: 0.8750\n",
            "Epoch 147/250\n",
            "2/2 [==============================] - 0s 37ms/step - loss: 0.4152 - accuracy: 0.8594 - val_loss: 0.4119 - val_accuracy: 0.8750\n",
            "Epoch 148/250\n",
            "2/2 [==============================] - 0s 34ms/step - loss: 0.4098 - accuracy: 0.8073 - val_loss: 0.3422 - val_accuracy: 0.8750\n",
            "Epoch 149/250\n",
            "2/2 [==============================] - 0s 35ms/step - loss: 0.3828 - accuracy: 0.8854 - val_loss: 0.3620 - val_accuracy: 0.9062\n",
            "Epoch 150/250\n",
            "2/2 [==============================] - 0s 39ms/step - loss: 0.3902 - accuracy: 0.8542 - val_loss: 0.3511 - val_accuracy: 0.8750\n",
            "Epoch 151/250\n",
            "2/2 [==============================] - 0s 31ms/step - loss: 0.3695 - accuracy: 0.8854 - val_loss: 0.3787 - val_accuracy: 0.8438\n",
            "Epoch 152/250\n",
            "2/2 [==============================] - 0s 31ms/step - loss: 0.3753 - accuracy: 0.9010 - val_loss: 0.3578 - val_accuracy: 0.8750\n",
            "Epoch 153/250\n",
            "2/2 [==============================] - 0s 33ms/step - loss: 0.3940 - accuracy: 0.8438 - val_loss: 0.3561 - val_accuracy: 0.9062\n",
            "Epoch 154/250\n",
            "2/2 [==============================] - 0s 46ms/step - loss: 0.3552 - accuracy: 0.8750 - val_loss: 0.3501 - val_accuracy: 0.8750\n",
            "Epoch 155/250\n",
            "2/2 [==============================] - 0s 38ms/step - loss: 0.3716 - accuracy: 0.8802 - val_loss: 0.3406 - val_accuracy: 0.8750\n",
            "Epoch 156/250\n",
            "2/2 [==============================] - 0s 34ms/step - loss: 0.3775 - accuracy: 0.8750 - val_loss: 0.3402 - val_accuracy: 0.8750\n",
            "Epoch 157/250\n",
            "2/2 [==============================] - 0s 34ms/step - loss: 0.4098 - accuracy: 0.8698 - val_loss: 0.3463 - val_accuracy: 0.8750\n",
            "Epoch 158/250\n",
            "2/2 [==============================] - 0s 32ms/step - loss: 0.4062 - accuracy: 0.8542 - val_loss: 0.3608 - val_accuracy: 0.8750\n",
            "Epoch 159/250\n",
            "2/2 [==============================] - 0s 35ms/step - loss: 0.3593 - accuracy: 0.8594 - val_loss: 0.3654 - val_accuracy: 0.8750\n",
            "Epoch 160/250\n",
            "2/2 [==============================] - 0s 42ms/step - loss: 0.3740 - accuracy: 0.8594 - val_loss: 0.3528 - val_accuracy: 0.9062\n",
            "Epoch 161/250\n",
            "2/2 [==============================] - 0s 32ms/step - loss: 0.4401 - accuracy: 0.8490 - val_loss: 0.4114 - val_accuracy: 0.8438\n",
            "Epoch 162/250\n",
            "2/2 [==============================] - 0s 34ms/step - loss: 0.3654 - accuracy: 0.8802 - val_loss: 0.3825 - val_accuracy: 0.8750\n",
            "Epoch 163/250\n",
            "2/2 [==============================] - 0s 33ms/step - loss: 0.3477 - accuracy: 0.8854 - val_loss: 0.3599 - val_accuracy: 0.9062\n",
            "Epoch 164/250\n",
            "2/2 [==============================] - 0s 36ms/step - loss: 0.3445 - accuracy: 0.8542 - val_loss: 0.3442 - val_accuracy: 0.9062\n",
            "Epoch 165/250\n",
            "2/2 [==============================] - 0s 33ms/step - loss: 0.3360 - accuracy: 0.8802 - val_loss: 0.3407 - val_accuracy: 0.9062\n",
            "Epoch 166/250\n",
            "2/2 [==============================] - 0s 32ms/step - loss: 0.3019 - accuracy: 0.9010 - val_loss: 0.3633 - val_accuracy: 0.8750\n",
            "Epoch 167/250\n",
            "2/2 [==============================] - 0s 32ms/step - loss: 0.3499 - accuracy: 0.8542 - val_loss: 0.3213 - val_accuracy: 0.9062\n",
            "Epoch 168/250\n",
            "2/2 [==============================] - 0s 34ms/step - loss: 0.3382 - accuracy: 0.8854 - val_loss: 0.3419 - val_accuracy: 0.8750\n",
            "Epoch 169/250\n",
            "2/2 [==============================] - 0s 35ms/step - loss: 0.3268 - accuracy: 0.8802 - val_loss: 0.3504 - val_accuracy: 0.8750\n",
            "Epoch 170/250\n",
            "2/2 [==============================] - 0s 33ms/step - loss: 0.3551 - accuracy: 0.8438 - val_loss: 0.3250 - val_accuracy: 0.9375\n",
            "Epoch 171/250\n",
            "2/2 [==============================] - 0s 37ms/step - loss: 0.3355 - accuracy: 0.9010 - val_loss: 0.3535 - val_accuracy: 0.9062\n",
            "Epoch 172/250\n",
            "2/2 [==============================] - 0s 34ms/step - loss: 0.3569 - accuracy: 0.8438 - val_loss: 0.3219 - val_accuracy: 0.9062\n",
            "Epoch 173/250\n",
            "2/2 [==============================] - 0s 33ms/step - loss: 0.3806 - accuracy: 0.8646 - val_loss: 0.3243 - val_accuracy: 0.9062\n",
            "Epoch 174/250\n",
            "2/2 [==============================] - 0s 31ms/step - loss: 0.3087 - accuracy: 0.8958 - val_loss: 0.3595 - val_accuracy: 0.9062\n",
            "Epoch 175/250\n",
            "2/2 [==============================] - 0s 34ms/step - loss: 0.3694 - accuracy: 0.8385 - val_loss: 0.3026 - val_accuracy: 0.9375\n",
            "Epoch 176/250\n",
            "2/2 [==============================] - 0s 39ms/step - loss: 0.3572 - accuracy: 0.9115 - val_loss: 0.3795 - val_accuracy: 0.8438\n",
            "Epoch 177/250\n",
            "2/2 [==============================] - 0s 33ms/step - loss: 0.3789 - accuracy: 0.8125 - val_loss: 0.3597 - val_accuracy: 0.8750\n",
            "Epoch 178/250\n",
            "2/2 [==============================] - 0s 34ms/step - loss: 0.3458 - accuracy: 0.9167 - val_loss: 0.3196 - val_accuracy: 0.9062\n",
            "Epoch 179/250\n",
            "2/2 [==============================] - 0s 43ms/step - loss: 0.3501 - accuracy: 0.8490 - val_loss: 0.3265 - val_accuracy: 0.9062\n",
            "Epoch 180/250\n",
            "2/2 [==============================] - 0s 34ms/step - loss: 0.3259 - accuracy: 0.8750 - val_loss: 0.3329 - val_accuracy: 0.9062\n",
            "Epoch 181/250\n",
            "2/2 [==============================] - 0s 32ms/step - loss: 0.3283 - accuracy: 0.8854 - val_loss: 0.3005 - val_accuracy: 0.8750\n",
            "Epoch 182/250\n",
            "2/2 [==============================] - 0s 37ms/step - loss: 0.3313 - accuracy: 0.8646 - val_loss: 0.3239 - val_accuracy: 0.9062\n",
            "Epoch 183/250\n",
            "2/2 [==============================] - 0s 31ms/step - loss: 0.3090 - accuracy: 0.8958 - val_loss: 0.3278 - val_accuracy: 0.9062\n",
            "Epoch 184/250\n",
            "2/2 [==============================] - 0s 33ms/step - loss: 0.3403 - accuracy: 0.8906 - val_loss: 0.2930 - val_accuracy: 0.8750\n",
            "Epoch 185/250\n",
            "2/2 [==============================] - 0s 32ms/step - loss: 0.3312 - accuracy: 0.8854 - val_loss: 0.3227 - val_accuracy: 0.9062\n",
            "Epoch 186/250\n",
            "2/2 [==============================] - 0s 32ms/step - loss: 0.3393 - accuracy: 0.8854 - val_loss: 0.3084 - val_accuracy: 0.9062\n",
            "Epoch 187/250\n",
            "2/2 [==============================] - 0s 34ms/step - loss: 0.3187 - accuracy: 0.8854 - val_loss: 0.2903 - val_accuracy: 0.8750\n",
            "Epoch 188/250\n",
            "2/2 [==============================] - 0s 32ms/step - loss: 0.3195 - accuracy: 0.9062 - val_loss: 0.3208 - val_accuracy: 0.9062\n",
            "Epoch 189/250\n",
            "2/2 [==============================] - 0s 31ms/step - loss: 0.2907 - accuracy: 0.9010 - val_loss: 0.3365 - val_accuracy: 0.9375\n",
            "Epoch 190/250\n",
            "2/2 [==============================] - 0s 32ms/step - loss: 0.3281 - accuracy: 0.8542 - val_loss: 0.2754 - val_accuracy: 0.9062\n",
            "Epoch 191/250\n",
            "2/2 [==============================] - 0s 38ms/step - loss: 0.3353 - accuracy: 0.8854 - val_loss: 0.3233 - val_accuracy: 0.9062\n",
            "Epoch 192/250\n",
            "2/2 [==============================] - 0s 31ms/step - loss: 0.3746 - accuracy: 0.8438 - val_loss: 0.3246 - val_accuracy: 0.9375\n",
            "Epoch 193/250\n",
            "2/2 [==============================] - 0s 33ms/step - loss: 0.2993 - accuracy: 0.8854 - val_loss: 0.2901 - val_accuracy: 0.9375\n",
            "Epoch 194/250\n",
            "2/2 [==============================] - 0s 32ms/step - loss: 0.4057 - accuracy: 0.8698 - val_loss: 0.3725 - val_accuracy: 0.8438\n",
            "Epoch 195/250\n",
            "2/2 [==============================] - 0s 42ms/step - loss: 0.4299 - accuracy: 0.8229 - val_loss: 0.3510 - val_accuracy: 0.8438\n",
            "Epoch 196/250\n",
            "2/2 [==============================] - 0s 37ms/step - loss: 0.3766 - accuracy: 0.8542 - val_loss: 0.3555 - val_accuracy: 0.8750\n",
            "Epoch 197/250\n",
            "2/2 [==============================] - 0s 40ms/step - loss: 0.3679 - accuracy: 0.8542 - val_loss: 0.3275 - val_accuracy: 0.8750\n",
            "Epoch 198/250\n",
            "2/2 [==============================] - 0s 34ms/step - loss: 0.3277 - accuracy: 0.8802 - val_loss: 0.3510 - val_accuracy: 0.9062\n",
            "Epoch 199/250\n",
            "2/2 [==============================] - 0s 32ms/step - loss: 0.3059 - accuracy: 0.8594 - val_loss: 0.2627 - val_accuracy: 0.9375\n",
            "Epoch 200/250\n",
            "2/2 [==============================] - 0s 35ms/step - loss: 0.3011 - accuracy: 0.9062 - val_loss: 0.3174 - val_accuracy: 0.9375\n",
            "Epoch 201/250\n",
            "2/2 [==============================] - 0s 34ms/step - loss: 0.3294 - accuracy: 0.8333 - val_loss: 0.3496 - val_accuracy: 0.8438\n",
            "Epoch 202/250\n",
            "2/2 [==============================] - 0s 33ms/step - loss: 0.3670 - accuracy: 0.8490 - val_loss: 0.3207 - val_accuracy: 0.8750\n",
            "Epoch 203/250\n",
            "2/2 [==============================] - 0s 38ms/step - loss: 0.4452 - accuracy: 0.8177 - val_loss: 0.2827 - val_accuracy: 0.9062\n",
            "Epoch 204/250\n",
            "2/2 [==============================] - 0s 36ms/step - loss: 0.3886 - accuracy: 0.7969 - val_loss: 0.2981 - val_accuracy: 0.9062\n",
            "Epoch 205/250\n",
            "2/2 [==============================] - 0s 31ms/step - loss: 0.3121 - accuracy: 0.8698 - val_loss: 0.3756 - val_accuracy: 0.8438\n",
            "Epoch 206/250\n",
            "2/2 [==============================] - 0s 33ms/step - loss: 0.3599 - accuracy: 0.8802 - val_loss: 0.3618 - val_accuracy: 0.8750\n",
            "Epoch 207/250\n",
            "2/2 [==============================] - 0s 34ms/step - loss: 0.4191 - accuracy: 0.8385 - val_loss: 0.6065 - val_accuracy: 0.7812\n",
            "Epoch 208/250\n",
            "2/2 [==============================] - 0s 31ms/step - loss: 0.5304 - accuracy: 0.8177 - val_loss: 0.3126 - val_accuracy: 0.8750\n",
            "Epoch 209/250\n",
            "2/2 [==============================] - 0s 30ms/step - loss: 0.4333 - accuracy: 0.8542 - val_loss: 0.2881 - val_accuracy: 0.9062\n",
            "Epoch 210/250\n",
            "2/2 [==============================] - 0s 44ms/step - loss: 0.5189 - accuracy: 0.8125 - val_loss: 0.4587 - val_accuracy: 0.7500\n",
            "Epoch 211/250\n",
            "2/2 [==============================] - 0s 35ms/step - loss: 0.3670 - accuracy: 0.8906 - val_loss: 0.5987 - val_accuracy: 0.7500\n",
            "Epoch 212/250\n",
            "2/2 [==============================] - 0s 33ms/step - loss: 0.5749 - accuracy: 0.7656 - val_loss: 0.5786 - val_accuracy: 0.8125\n",
            "Epoch 213/250\n",
            "2/2 [==============================] - 0s 32ms/step - loss: 0.5770 - accuracy: 0.8073 - val_loss: 0.3031 - val_accuracy: 0.8438\n",
            "Epoch 214/250\n",
            "2/2 [==============================] - 0s 33ms/step - loss: 0.3409 - accuracy: 0.8698 - val_loss: 0.3206 - val_accuracy: 0.8438\n",
            "Epoch 215/250\n",
            "2/2 [==============================] - 0s 31ms/step - loss: 0.3903 - accuracy: 0.8698 - val_loss: 0.4314 - val_accuracy: 0.8125\n",
            "Epoch 216/250\n",
            "2/2 [==============================] - 0s 41ms/step - loss: 0.4621 - accuracy: 0.8646 - val_loss: 0.3588 - val_accuracy: 0.8438\n",
            "Epoch 217/250\n",
            "2/2 [==============================] - 0s 33ms/step - loss: 0.3672 - accuracy: 0.8750 - val_loss: 0.3225 - val_accuracy: 0.9375\n",
            "Epoch 218/250\n",
            "2/2 [==============================] - 0s 38ms/step - loss: 0.3604 - accuracy: 0.8490 - val_loss: 0.2450 - val_accuracy: 0.9062\n",
            "Epoch 219/250\n",
            "2/2 [==============================] - 0s 35ms/step - loss: 0.3045 - accuracy: 0.9219 - val_loss: 0.2441 - val_accuracy: 0.9062\n",
            "Epoch 220/250\n",
            "2/2 [==============================] - 0s 38ms/step - loss: 0.2842 - accuracy: 0.9271 - val_loss: 0.2922 - val_accuracy: 0.9375\n",
            "Epoch 221/250\n",
            "2/2 [==============================] - 0s 32ms/step - loss: 0.2935 - accuracy: 0.8906 - val_loss: 0.2658 - val_accuracy: 0.9062\n",
            "Epoch 222/250\n",
            "2/2 [==============================] - 0s 38ms/step - loss: 0.2701 - accuracy: 0.9115 - val_loss: 0.2405 - val_accuracy: 0.9375\n",
            "Epoch 223/250\n",
            "2/2 [==============================] - 0s 33ms/step - loss: 0.3750 - accuracy: 0.8646 - val_loss: 0.3005 - val_accuracy: 0.8750\n",
            "Epoch 224/250\n",
            "2/2 [==============================] - 0s 32ms/step - loss: 0.3270 - accuracy: 0.8698 - val_loss: 0.3638 - val_accuracy: 0.8438\n",
            "Epoch 225/250\n",
            "2/2 [==============================] - 0s 39ms/step - loss: 0.3633 - accuracy: 0.8438 - val_loss: 0.2829 - val_accuracy: 0.9062\n",
            "Epoch 226/250\n",
            "2/2 [==============================] - 0s 36ms/step - loss: 0.2852 - accuracy: 0.8854 - val_loss: 0.3126 - val_accuracy: 0.8438\n",
            "Epoch 227/250\n",
            "2/2 [==============================] - 0s 43ms/step - loss: 0.2975 - accuracy: 0.8854 - val_loss: 0.2689 - val_accuracy: 0.9062\n",
            "Epoch 228/250\n",
            "2/2 [==============================] - 0s 34ms/step - loss: 0.3417 - accuracy: 0.8594 - val_loss: 0.2742 - val_accuracy: 0.9062\n",
            "Epoch 229/250\n",
            "2/2 [==============================] - 0s 32ms/step - loss: 0.3479 - accuracy: 0.8958 - val_loss: 0.3693 - val_accuracy: 0.8125\n",
            "Epoch 230/250\n",
            "2/2 [==============================] - 0s 32ms/step - loss: 0.2707 - accuracy: 0.8802 - val_loss: 0.3222 - val_accuracy: 0.8750\n",
            "Epoch 231/250\n",
            "2/2 [==============================] - 0s 33ms/step - loss: 0.3449 - accuracy: 0.8854 - val_loss: 0.2331 - val_accuracy: 0.9062\n",
            "Epoch 232/250\n",
            "2/2 [==============================] - 0s 31ms/step - loss: 0.4264 - accuracy: 0.8594 - val_loss: 0.2926 - val_accuracy: 0.9062\n",
            "Epoch 233/250\n",
            "2/2 [==============================] - 0s 32ms/step - loss: 0.4508 - accuracy: 0.8281 - val_loss: 0.3697 - val_accuracy: 0.8125\n",
            "Epoch 234/250\n",
            "2/2 [==============================] - 0s 37ms/step - loss: 0.3277 - accuracy: 0.8958 - val_loss: 0.4047 - val_accuracy: 0.8125\n",
            "Epoch 235/250\n",
            "2/2 [==============================] - 0s 34ms/step - loss: 0.4532 - accuracy: 0.8438 - val_loss: 0.4995 - val_accuracy: 0.7500\n",
            "Epoch 236/250\n",
            "2/2 [==============================] - 0s 33ms/step - loss: 0.4966 - accuracy: 0.8385 - val_loss: 0.2354 - val_accuracy: 0.9062\n",
            "Epoch 237/250\n",
            "2/2 [==============================] - 0s 36ms/step - loss: 0.3129 - accuracy: 0.9010 - val_loss: 0.2829 - val_accuracy: 0.8750\n",
            "Epoch 238/250\n",
            "2/2 [==============================] - 0s 33ms/step - loss: 0.3225 - accuracy: 0.8646 - val_loss: 0.3095 - val_accuracy: 0.9062\n",
            "Epoch 239/250\n",
            "2/2 [==============================] - 0s 31ms/step - loss: 0.2809 - accuracy: 0.8906 - val_loss: 0.2792 - val_accuracy: 0.9375\n",
            "Epoch 240/250\n",
            "2/2 [==============================] - 0s 34ms/step - loss: 0.3191 - accuracy: 0.8750 - val_loss: 0.2698 - val_accuracy: 0.8750\n",
            "Epoch 241/250\n",
            "2/2 [==============================] - 0s 36ms/step - loss: 0.3667 - accuracy: 0.8542 - val_loss: 0.2858 - val_accuracy: 0.9062\n",
            "Epoch 242/250\n",
            "2/2 [==============================] - 0s 31ms/step - loss: 0.4211 - accuracy: 0.8490 - val_loss: 0.2943 - val_accuracy: 0.9062\n",
            "Epoch 243/250\n",
            "2/2 [==============================] - 0s 37ms/step - loss: 0.3516 - accuracy: 0.8542 - val_loss: 0.5673 - val_accuracy: 0.7812\n",
            "Epoch 244/250\n",
            "2/2 [==============================] - 0s 34ms/step - loss: 0.5725 - accuracy: 0.7969 - val_loss: 0.2683 - val_accuracy: 0.9375\n",
            "Epoch 245/250\n",
            "2/2 [==============================] - 0s 36ms/step - loss: 0.3276 - accuracy: 0.9115 - val_loss: 0.2056 - val_accuracy: 0.9062\n",
            "Epoch 246/250\n",
            "2/2 [==============================] - 0s 39ms/step - loss: 0.2985 - accuracy: 0.8958 - val_loss: 0.3227 - val_accuracy: 0.9062\n",
            "Epoch 247/250\n",
            "2/2 [==============================] - 0s 33ms/step - loss: 0.3511 - accuracy: 0.8802 - val_loss: 0.3239 - val_accuracy: 0.8438\n",
            "Epoch 248/250\n",
            "2/2 [==============================] - 0s 33ms/step - loss: 0.3169 - accuracy: 0.8906 - val_loss: 0.2287 - val_accuracy: 0.9375\n",
            "Epoch 249/250\n",
            "2/2 [==============================] - 0s 35ms/step - loss: 0.3197 - accuracy: 0.8698 - val_loss: 0.2755 - val_accuracy: 0.9375\n",
            "Epoch 250/250\n",
            "2/2 [==============================] - 0s 41ms/step - loss: 0.2974 - accuracy: 0.8750 - val_loss: 0.2390 - val_accuracy: 0.9375\n"
          ],
          "name": "stdout"
        }
      ]
    },
    {
      "cell_type": "code",
      "metadata": {
        "colab": {
          "base_uri": "https://localhost:8080/",
          "height": 533
        },
        "id": "wJLfbFUoWM1R",
        "outputId": "02d2f7db-adee-4a89-8c17-721b10ae0e45"
      },
      "source": [
        "keras.utils.plot_model(model, 'my_first_model.png', show_shapes=True)"
      ],
      "execution_count": 17,
      "outputs": [
        {
          "output_type": "execute_result",
          "data": {
            "image/png": "[encoded data removed]",
            "text/plain": [
              "<IPython.core.display.Image object>"
            ]
          },
          "metadata": {
            "tags": []
          },
          "execution_count": 17
        }
      ]
    },
    {
      "cell_type": "code",
      "metadata": {
        "colab": {
          "base_uri": "https://localhost:8080/"
        },
        "id": "8IU72CBc3K0m",
        "outputId": "763a4897-43d8-4077-9b9a-8d14502fb6c0"
      },
      "source": [
        "h.history.keys()"
      ],
      "execution_count": 18,
      "outputs": [
        {
          "output_type": "execute_result",
          "data": {
            "text/plain": [
              "dict_keys(['loss', 'accuracy', 'val_loss', 'val_accuracy'])"
            ]
          },
          "metadata": {
            "tags": []
          },
          "execution_count": 18
        }
      ]
    },
    {
      "cell_type": "code",
      "metadata": {
        "colab": {
          "base_uri": "https://localhost:8080/",
          "height": 520
        },
        "id": "NlpEoQ7q3NvF",
        "outputId": "bcbe7367-ecd6-4793-9230-b3c299fc0fb4"
      },
      "source": [
        "import matplotlib.pyplot as plt\n",
        "\n",
        "fig, axs = plt.subplots(1, 2, figsize=(20,8))\n",
        "\n",
        "axs[0].plot(h.history['loss'], label='Training')\n",
        "axs[0].plot(h.history['val_loss'], label='Valuation')\n",
        "axs[0].set_title('Loss', fontsize=18)\n",
        "axs[0].grid(True)\n",
        "axs[0].legend(fontsize=12)\n",
        "\n",
        "axs[1].plot(h.history['accuracy'], label='Training')\n",
        "axs[1].plot(h.history['val_accuracy'], label='Valuation')\n",
        "axs[1].set_title('Accuracy', fontsize=18)\n",
        "axs[1].grid(True)\n",
        "axs[1].legend(fontsize=12)"
      ],
      "execution_count": 19,
      "outputs": [
        {
          "output_type": "execute_result",
          "data": {
            "text/plain": [
              "<matplotlib.legend.Legend at 0x7f461a049b90>"
            ]
          },
          "metadata": {
            "tags": []
          },
          "execution_count": 19
        },
        {
          "output_type": "display_data",
          "data": {
            "image/png": "[encoded data removed]",
            "text/plain": [
              "<Figure size 1440x576 with 2 Axes>"
            ]
          },
          "metadata": {
            "tags": [],
            "needs_background": "light"
          }
        }
      ]
    },
    {
      "cell_type": "code",
      "metadata": {
        "colab": {
          "base_uri": "https://localhost:8080/",
          "height": 406
        },
        "id": "kVYw_OswXklo",
        "outputId": "04cdba98-0e8c-41ce-9741-1b827fa966bf"
      },
      "source": [
        "df1 = pd.DataFrame(data=h.history)\n",
        "df1"
      ],
      "execution_count": 20,
      "outputs": [
        {
          "output_type": "execute_result",
          "data": {
            "text/html": [
              "<div>\n",
              "<style scoped>\n",
              "    .dataframe tbody tr th:only-of-type {\n",
              "        vertical-align: middle;\n",
              "    }\n",
              "\n",
              "    .dataframe tbody tr th {\n",
              "        vertical-align: top;\n",
              "    }\n",
              "\n",
              "    .dataframe thead th {\n",
              "        text-align: right;\n",
              "    }\n",
              "</style>\n",
              "<table border=\"1\" class=\"dataframe\">\n",
              "  <thead>\n",
              "    <tr style=\"text-align: right;\">\n",
              "      <th></th>\n",
              "      <th>loss</th>\n",
              "      <th>accuracy</th>\n",
              "      <th>val_loss</th>\n",
              "      <th>val_accuracy</th>\n",
              "    </tr>\n",
              "  </thead>\n",
              "  <tbody>\n",
              "    <tr>\n",
              "      <th>0</th>\n",
              "      <td>28.998470</td>\n",
              "      <td>0.234375</td>\n",
              "      <td>3.857334</td>\n",
              "      <td>0.31250</td>\n",
              "    </tr>\n",
              "    <tr>\n",
              "      <th>1</th>\n",
              "      <td>3.714554</td>\n",
              "      <td>0.468750</td>\n",
              "      <td>12.303544</td>\n",
              "      <td>0.43750</td>\n",
              "    </tr>\n",
              "    <tr>\n",
              "      <th>2</th>\n",
              "      <td>9.044658</td>\n",
              "      <td>0.476562</td>\n",
              "      <td>13.684837</td>\n",
              "      <td>0.37500</td>\n",
              "    </tr>\n",
              "    <tr>\n",
              "      <th>3</th>\n",
              "      <td>9.460806</td>\n",
              "      <td>0.484375</td>\n",
              "      <td>15.586799</td>\n",
              "      <td>0.18750</td>\n",
              "    </tr>\n",
              "    <tr>\n",
              "      <th>4</th>\n",
              "      <td>9.308563</td>\n",
              "      <td>0.492188</td>\n",
              "      <td>11.713808</td>\n",
              "      <td>0.50000</td>\n",
              "    </tr>\n",
              "    <tr>\n",
              "      <th>...</th>\n",
              "      <td>...</td>\n",
              "      <td>...</td>\n",
              "      <td>...</td>\n",
              "      <td>...</td>\n",
              "    </tr>\n",
              "    <tr>\n",
              "      <th>245</th>\n",
              "      <td>0.316195</td>\n",
              "      <td>0.882812</td>\n",
              "      <td>0.322729</td>\n",
              "      <td>0.90625</td>\n",
              "    </tr>\n",
              "    <tr>\n",
              "      <th>246</th>\n",
              "      <td>0.340734</td>\n",
              "      <td>0.882812</td>\n",
              "      <td>0.323881</td>\n",
              "      <td>0.84375</td>\n",
              "    </tr>\n",
              "    <tr>\n",
              "      <th>247</th>\n",
              "      <td>0.312851</td>\n",
              "      <td>0.890625</td>\n",
              "      <td>0.228739</td>\n",
              "      <td>0.93750</td>\n",
              "    </tr>\n",
              "    <tr>\n",
              "      <th>248</th>\n",
              "      <td>0.312718</td>\n",
              "      <td>0.875000</td>\n",
              "      <td>0.275489</td>\n",
              "      <td>0.93750</td>\n",
              "    </tr>\n",
              "    <tr>\n",
              "      <th>249</th>\n",
              "      <td>0.312178</td>\n",
              "      <td>0.882812</td>\n",
              "      <td>0.238994</td>\n",
              "      <td>0.93750</td>\n",
              "    </tr>\n",
              "  </tbody>\n",
              "</table>\n",
              "<p>250 rows × 4 columns</p>\n",
              "</div>"
            ],
            "text/plain": [
              "          loss  accuracy   val_loss  val_accuracy\n",
              "0    28.998470  0.234375   3.857334       0.31250\n",
              "1     3.714554  0.468750  12.303544       0.43750\n",
              "2     9.044658  0.476562  13.684837       0.37500\n",
              "3     9.460806  0.484375  15.586799       0.18750\n",
              "4     9.308563  0.492188  11.713808       0.50000\n",
              "..         ...       ...        ...           ...\n",
              "245   0.316195  0.882812   0.322729       0.90625\n",
              "246   0.340734  0.882812   0.323881       0.84375\n",
              "247   0.312851  0.890625   0.228739       0.93750\n",
              "248   0.312718  0.875000   0.275489       0.93750\n",
              "249   0.312178  0.882812   0.238994       0.93750\n",
              "\n",
              "[250 rows x 4 columns]"
            ]
          },
          "metadata": {
            "tags": []
          },
          "execution_count": 20
        }
      ]
    }
  ]
}