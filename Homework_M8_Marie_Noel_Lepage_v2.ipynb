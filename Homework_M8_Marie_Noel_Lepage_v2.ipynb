{
  "cells": [
    {
      "cell_type": "markdown",
      "metadata": {
        "id": "mIXqeL__VlG2"
      },
      "source": [
        "# Deploy Keras Model to the Cloud\n",
        "1. Download data\n",
        "2. Hot Encode Categorical Columns\n",
        "3. Develop Model (use: ```RMSprop(lr=, rho=, epsilon=, decay=)```)\n",
        "3. Create Storage Bucket (should already exist)\n",
        "4. Authenticate on Google Cloud Platform\n",
        "5. Deploy your model using the ```gcloud``` tool"
      ]
    },
    {
      "cell_type": "code",
      "execution_count": 1,
      "metadata": {
        "colab": {
          "base_uri": "https://localhost:8080/"
        },
        "id": "vF16D9KFVgR9",
        "outputId": "021be49f-fad3-4057-d00b-0bdd96a4d1f2"
      },
      "outputs": [
        {
          "name": "stdout",
          "output_type": "stream",
          "text": [
            "--2021-06-13 16:38:56--  https://storage.googleapis.com/nicksdemobucket/bank.csv\n",
            "Resolving storage.googleapis.com (storage.googleapis.com)... 142.250.141.128, 2607:f8b0:4023:c0b::80, 2607:f8b0:4023:c03::80\n",
            "Connecting to storage.googleapis.com (storage.googleapis.com)|142.250.141.128|:443... connected.\n",
            "HTTP request sent, awaiting response... 200 OK\n",
            "Length: 4610348 (4.4M) [application/octet-stream]\n",
            "Saving to: ‘bank.csv’\n",
            "\n",
            "bank.csv            100%[===================>]   4.40M  --.-KB/s    in 0.08s   \n",
            "\n",
            "2021-06-13 16:38:56 (52.0 MB/s) - ‘bank.csv’ saved [4610348/4610348]\n",
            "\n"
          ]
        }
      ],
      "source": [
        "!wget https://storage.googleapis.com/nicksdemobucket/bank.csv"
      ]
    },
    {
      "cell_type": "code",
      "execution_count": 2,
      "metadata": {
        "colab": {
          "base_uri": "https://localhost:8080/",
          "height": 202
        },
        "id": "gkJQAqroVoEa",
        "outputId": "aca8e220-a2d4-414b-ed01-a541c68642ea"
      },
      "outputs": [
        {
          "data": {
            "text/html": [
              "<div>\n",
              "<style scoped>\n",
              "    .dataframe tbody tr th:only-of-type {\n",
              "        vertical-align: middle;\n",
              "    }\n",
              "\n",
              "    .dataframe tbody tr th {\n",
              "        vertical-align: top;\n",
              "    }\n",
              "\n",
              "    .dataframe thead th {\n",
              "        text-align: right;\n",
              "    }\n",
              "</style>\n",
              "<table border=\"1\" class=\"dataframe\">\n",
              "  <thead>\n",
              "    <tr style=\"text-align: right;\">\n",
              "      <th></th>\n",
              "      <th>age</th>\n",
              "      <th>job</th>\n",
              "      <th>marital</th>\n",
              "      <th>education</th>\n",
              "      <th>default</th>\n",
              "      <th>balance</th>\n",
              "      <th>housing</th>\n",
              "      <th>loan</th>\n",
              "      <th>contact</th>\n",
              "      <th>day</th>\n",
              "      <th>month</th>\n",
              "      <th>duration</th>\n",
              "      <th>campaign</th>\n",
              "      <th>pdays</th>\n",
              "      <th>previous</th>\n",
              "      <th>poutcome</th>\n",
              "      <th>y</th>\n",
              "    </tr>\n",
              "  </thead>\n",
              "  <tbody>\n",
              "    <tr>\n",
              "      <th>0</th>\n",
              "      <td>58</td>\n",
              "      <td>management</td>\n",
              "      <td>married</td>\n",
              "      <td>tertiary</td>\n",
              "      <td>no</td>\n",
              "      <td>2143</td>\n",
              "      <td>yes</td>\n",
              "      <td>no</td>\n",
              "      <td>unknown</td>\n",
              "      <td>5</td>\n",
              "      <td>may</td>\n",
              "      <td>261</td>\n",
              "      <td>1</td>\n",
              "      <td>-1</td>\n",
              "      <td>0</td>\n",
              "      <td>unknown</td>\n",
              "      <td>no</td>\n",
              "    </tr>\n",
              "    <tr>\n",
              "      <th>1</th>\n",
              "      <td>44</td>\n",
              "      <td>technician</td>\n",
              "      <td>single</td>\n",
              "      <td>secondary</td>\n",
              "      <td>no</td>\n",
              "      <td>29</td>\n",
              "      <td>yes</td>\n",
              "      <td>no</td>\n",
              "      <td>unknown</td>\n",
              "      <td>5</td>\n",
              "      <td>may</td>\n",
              "      <td>151</td>\n",
              "      <td>1</td>\n",
              "      <td>-1</td>\n",
              "      <td>0</td>\n",
              "      <td>unknown</td>\n",
              "      <td>no</td>\n",
              "    </tr>\n",
              "    <tr>\n",
              "      <th>2</th>\n",
              "      <td>33</td>\n",
              "      <td>entrepreneur</td>\n",
              "      <td>married</td>\n",
              "      <td>secondary</td>\n",
              "      <td>no</td>\n",
              "      <td>2</td>\n",
              "      <td>yes</td>\n",
              "      <td>yes</td>\n",
              "      <td>unknown</td>\n",
              "      <td>5</td>\n",
              "      <td>may</td>\n",
              "      <td>76</td>\n",
              "      <td>1</td>\n",
              "      <td>-1</td>\n",
              "      <td>0</td>\n",
              "      <td>unknown</td>\n",
              "      <td>no</td>\n",
              "    </tr>\n",
              "    <tr>\n",
              "      <th>3</th>\n",
              "      <td>47</td>\n",
              "      <td>blue-collar</td>\n",
              "      <td>married</td>\n",
              "      <td>unknown</td>\n",
              "      <td>no</td>\n",
              "      <td>1506</td>\n",
              "      <td>yes</td>\n",
              "      <td>no</td>\n",
              "      <td>unknown</td>\n",
              "      <td>5</td>\n",
              "      <td>may</td>\n",
              "      <td>92</td>\n",
              "      <td>1</td>\n",
              "      <td>-1</td>\n",
              "      <td>0</td>\n",
              "      <td>unknown</td>\n",
              "      <td>no</td>\n",
              "    </tr>\n",
              "    <tr>\n",
              "      <th>4</th>\n",
              "      <td>33</td>\n",
              "      <td>unknown</td>\n",
              "      <td>single</td>\n",
              "      <td>unknown</td>\n",
              "      <td>no</td>\n",
              "      <td>1</td>\n",
              "      <td>no</td>\n",
              "      <td>no</td>\n",
              "      <td>unknown</td>\n",
              "      <td>5</td>\n",
              "      <td>may</td>\n",
              "      <td>198</td>\n",
              "      <td>1</td>\n",
              "      <td>-1</td>\n",
              "      <td>0</td>\n",
              "      <td>unknown</td>\n",
              "      <td>no</td>\n",
              "    </tr>\n",
              "  </tbody>\n",
              "</table>\n",
              "</div>"
            ],
            "text/plain": [
              "   age           job  marital  education  ... pdays  previous poutcome   y\n",
              "0   58    management  married   tertiary  ...    -1         0  unknown  no\n",
              "1   44    technician   single  secondary  ...    -1         0  unknown  no\n",
              "2   33  entrepreneur  married  secondary  ...    -1         0  unknown  no\n",
              "3   47   blue-collar  married    unknown  ...    -1         0  unknown  no\n",
              "4   33       unknown   single    unknown  ...    -1         0  unknown  no\n",
              "\n",
              "[5 rows x 17 columns]"
            ]
          },
          "execution_count": 2,
          "metadata": {
            "tags": []
          },
          "output_type": "execute_result"
        }
      ],
      "source": [
        "import numpy as np\n",
        "import pandas as pd\n",
        "df = pd.read_csv('bank.csv', sep=\";\")\n",
        "df.head()"
      ]
    },
    {
      "cell_type": "code",
      "execution_count": 3,
      "metadata": {
        "colab": {
          "base_uri": "https://localhost:8080/",
          "height": 294
        },
        "id": "ImuTUFBgVoCe",
        "outputId": "5313aa73-5ac5-42f8-fe98-f0886161714a"
      },
      "outputs": [
        {
          "data": {
            "text/html": [
              "<div>\n",
              "<style scoped>\n",
              "    .dataframe tbody tr th:only-of-type {\n",
              "        vertical-align: middle;\n",
              "    }\n",
              "\n",
              "    .dataframe tbody tr th {\n",
              "        vertical-align: top;\n",
              "    }\n",
              "\n",
              "    .dataframe thead th {\n",
              "        text-align: right;\n",
              "    }\n",
              "</style>\n",
              "<table border=\"1\" class=\"dataframe\">\n",
              "  <thead>\n",
              "    <tr style=\"text-align: right;\">\n",
              "      <th></th>\n",
              "      <th>age</th>\n",
              "      <th>balance</th>\n",
              "      <th>day</th>\n",
              "      <th>duration</th>\n",
              "      <th>campaign</th>\n",
              "      <th>pdays</th>\n",
              "      <th>previous</th>\n",
              "    </tr>\n",
              "  </thead>\n",
              "  <tbody>\n",
              "    <tr>\n",
              "      <th>count</th>\n",
              "      <td>45211.000000</td>\n",
              "      <td>45211.000000</td>\n",
              "      <td>45211.000000</td>\n",
              "      <td>45211.000000</td>\n",
              "      <td>45211.000000</td>\n",
              "      <td>45211.000000</td>\n",
              "      <td>45211.000000</td>\n",
              "    </tr>\n",
              "    <tr>\n",
              "      <th>mean</th>\n",
              "      <td>40.936210</td>\n",
              "      <td>1362.272058</td>\n",
              "      <td>15.806419</td>\n",
              "      <td>258.163080</td>\n",
              "      <td>2.763841</td>\n",
              "      <td>40.197828</td>\n",
              "      <td>0.580323</td>\n",
              "    </tr>\n",
              "    <tr>\n",
              "      <th>std</th>\n",
              "      <td>10.618762</td>\n",
              "      <td>3044.765829</td>\n",
              "      <td>8.322476</td>\n",
              "      <td>257.527812</td>\n",
              "      <td>3.098021</td>\n",
              "      <td>100.128746</td>\n",
              "      <td>2.303441</td>\n",
              "    </tr>\n",
              "    <tr>\n",
              "      <th>min</th>\n",
              "      <td>18.000000</td>\n",
              "      <td>-8019.000000</td>\n",
              "      <td>1.000000</td>\n",
              "      <td>0.000000</td>\n",
              "      <td>1.000000</td>\n",
              "      <td>-1.000000</td>\n",
              "      <td>0.000000</td>\n",
              "    </tr>\n",
              "    <tr>\n",
              "      <th>25%</th>\n",
              "      <td>33.000000</td>\n",
              "      <td>72.000000</td>\n",
              "      <td>8.000000</td>\n",
              "      <td>103.000000</td>\n",
              "      <td>1.000000</td>\n",
              "      <td>-1.000000</td>\n",
              "      <td>0.000000</td>\n",
              "    </tr>\n",
              "    <tr>\n",
              "      <th>50%</th>\n",
              "      <td>39.000000</td>\n",
              "      <td>448.000000</td>\n",
              "      <td>16.000000</td>\n",
              "      <td>180.000000</td>\n",
              "      <td>2.000000</td>\n",
              "      <td>-1.000000</td>\n",
              "      <td>0.000000</td>\n",
              "    </tr>\n",
              "    <tr>\n",
              "      <th>75%</th>\n",
              "      <td>48.000000</td>\n",
              "      <td>1428.000000</td>\n",
              "      <td>21.000000</td>\n",
              "      <td>319.000000</td>\n",
              "      <td>3.000000</td>\n",
              "      <td>-1.000000</td>\n",
              "      <td>0.000000</td>\n",
              "    </tr>\n",
              "    <tr>\n",
              "      <th>max</th>\n",
              "      <td>95.000000</td>\n",
              "      <td>102127.000000</td>\n",
              "      <td>31.000000</td>\n",
              "      <td>4918.000000</td>\n",
              "      <td>63.000000</td>\n",
              "      <td>871.000000</td>\n",
              "      <td>275.000000</td>\n",
              "    </tr>\n",
              "  </tbody>\n",
              "</table>\n",
              "</div>"
            ],
            "text/plain": [
              "                age        balance  ...         pdays      previous\n",
              "count  45211.000000   45211.000000  ...  45211.000000  45211.000000\n",
              "mean      40.936210    1362.272058  ...     40.197828      0.580323\n",
              "std       10.618762    3044.765829  ...    100.128746      2.303441\n",
              "min       18.000000   -8019.000000  ...     -1.000000      0.000000\n",
              "25%       33.000000      72.000000  ...     -1.000000      0.000000\n",
              "50%       39.000000     448.000000  ...     -1.000000      0.000000\n",
              "75%       48.000000    1428.000000  ...     -1.000000      0.000000\n",
              "max       95.000000  102127.000000  ...    871.000000    275.000000\n",
              "\n",
              "[8 rows x 7 columns]"
            ]
          },
          "execution_count": 3,
          "metadata": {
            "tags": []
          },
          "output_type": "execute_result"
        }
      ],
      "source": [
        "df.describe()"
      ]
    },
    {
      "cell_type": "code",
      "execution_count": 3,
      "metadata": {
        "colab": {
          "base_uri": "https://localhost:8080/",
          "height": 202
        },
        "id": "ldP2xLzhVoAc",
        "outputId": "01b99e78-6a54-4a71-8265-39511e315857"
      },
      "outputs": [
        {
          "data": {
            "text/html": [
              "<div>\n",
              "<style scoped>\n",
              "    .dataframe tbody tr th:only-of-type {\n",
              "        vertical-align: middle;\n",
              "    }\n",
              "\n",
              "    .dataframe tbody tr th {\n",
              "        vertical-align: top;\n",
              "    }\n",
              "\n",
              "    .dataframe thead th {\n",
              "        text-align: right;\n",
              "    }\n",
              "</style>\n",
              "<table border=\"1\" class=\"dataframe\">\n",
              "  <thead>\n",
              "    <tr style=\"text-align: right;\">\n",
              "      <th></th>\n",
              "      <th>age</th>\n",
              "      <th>job</th>\n",
              "      <th>marital</th>\n",
              "      <th>education</th>\n",
              "      <th>default</th>\n",
              "      <th>balance</th>\n",
              "      <th>housing</th>\n",
              "      <th>loan</th>\n",
              "      <th>contact</th>\n",
              "      <th>day</th>\n",
              "      <th>month</th>\n",
              "      <th>duration</th>\n",
              "      <th>campaign</th>\n",
              "      <th>pdays</th>\n",
              "      <th>previous</th>\n",
              "      <th>poutcome</th>\n",
              "      <th>y</th>\n",
              "    </tr>\n",
              "  </thead>\n",
              "  <tbody>\n",
              "    <tr>\n",
              "      <th>0</th>\n",
              "      <td>58</td>\n",
              "      <td>management</td>\n",
              "      <td>married</td>\n",
              "      <td>tertiary</td>\n",
              "      <td>no</td>\n",
              "      <td>2143</td>\n",
              "      <td>yes</td>\n",
              "      <td>no</td>\n",
              "      <td>unknown</td>\n",
              "      <td>5</td>\n",
              "      <td>may</td>\n",
              "      <td>261</td>\n",
              "      <td>1</td>\n",
              "      <td>-1</td>\n",
              "      <td>0</td>\n",
              "      <td>unknown</td>\n",
              "      <td>0</td>\n",
              "    </tr>\n",
              "    <tr>\n",
              "      <th>1</th>\n",
              "      <td>44</td>\n",
              "      <td>technician</td>\n",
              "      <td>single</td>\n",
              "      <td>secondary</td>\n",
              "      <td>no</td>\n",
              "      <td>29</td>\n",
              "      <td>yes</td>\n",
              "      <td>no</td>\n",
              "      <td>unknown</td>\n",
              "      <td>5</td>\n",
              "      <td>may</td>\n",
              "      <td>151</td>\n",
              "      <td>1</td>\n",
              "      <td>-1</td>\n",
              "      <td>0</td>\n",
              "      <td>unknown</td>\n",
              "      <td>0</td>\n",
              "    </tr>\n",
              "    <tr>\n",
              "      <th>2</th>\n",
              "      <td>33</td>\n",
              "      <td>entrepreneur</td>\n",
              "      <td>married</td>\n",
              "      <td>secondary</td>\n",
              "      <td>no</td>\n",
              "      <td>2</td>\n",
              "      <td>yes</td>\n",
              "      <td>yes</td>\n",
              "      <td>unknown</td>\n",
              "      <td>5</td>\n",
              "      <td>may</td>\n",
              "      <td>76</td>\n",
              "      <td>1</td>\n",
              "      <td>-1</td>\n",
              "      <td>0</td>\n",
              "      <td>unknown</td>\n",
              "      <td>0</td>\n",
              "    </tr>\n",
              "    <tr>\n",
              "      <th>3</th>\n",
              "      <td>47</td>\n",
              "      <td>blue-collar</td>\n",
              "      <td>married</td>\n",
              "      <td>unknown</td>\n",
              "      <td>no</td>\n",
              "      <td>1506</td>\n",
              "      <td>yes</td>\n",
              "      <td>no</td>\n",
              "      <td>unknown</td>\n",
              "      <td>5</td>\n",
              "      <td>may</td>\n",
              "      <td>92</td>\n",
              "      <td>1</td>\n",
              "      <td>-1</td>\n",
              "      <td>0</td>\n",
              "      <td>unknown</td>\n",
              "      <td>0</td>\n",
              "    </tr>\n",
              "    <tr>\n",
              "      <th>4</th>\n",
              "      <td>33</td>\n",
              "      <td>unknown</td>\n",
              "      <td>single</td>\n",
              "      <td>unknown</td>\n",
              "      <td>no</td>\n",
              "      <td>1</td>\n",
              "      <td>no</td>\n",
              "      <td>no</td>\n",
              "      <td>unknown</td>\n",
              "      <td>5</td>\n",
              "      <td>may</td>\n",
              "      <td>198</td>\n",
              "      <td>1</td>\n",
              "      <td>-1</td>\n",
              "      <td>0</td>\n",
              "      <td>unknown</td>\n",
              "      <td>0</td>\n",
              "    </tr>\n",
              "  </tbody>\n",
              "</table>\n",
              "</div>"
            ],
            "text/plain": [
              "   age           job  marital  education  ... pdays  previous poutcome  y\n",
              "0   58    management  married   tertiary  ...    -1         0  unknown  0\n",
              "1   44    technician   single  secondary  ...    -1         0  unknown  0\n",
              "2   33  entrepreneur  married  secondary  ...    -1         0  unknown  0\n",
              "3   47   blue-collar  married    unknown  ...    -1         0  unknown  0\n",
              "4   33       unknown   single    unknown  ...    -1         0  unknown  0\n",
              "\n",
              "[5 rows x 17 columns]"
            ]
          },
          "execution_count": 3,
          "metadata": {
            "tags": []
          },
          "output_type": "execute_result"
        }
      ],
      "source": [
        "df.loc[df['y'] == 'no', 'y'] = 0\n",
        "df.loc[df['y'] == 'yes', 'y'] = 1\n",
        "df.head()"
      ]
    },
    {
      "cell_type": "code",
      "execution_count": 4,
      "metadata": {
        "colab": {
          "base_uri": "https://localhost:8080/"
        },
        "id": "rXH7ej1-Vn-L",
        "outputId": "8c5add5f-4754-41c8-e8d0-382856db015d"
      },
      "outputs": [
        {
          "name": "stdout",
          "output_type": "stream",
          "text": [
            "Index(['job', 'marital', 'education', 'default', 'housing', 'loan', 'contact',\n",
            "       'month', 'poutcome', 'y'],\n",
            "      dtype='object')\n"
          ]
        }
      ],
      "source": [
        "# Get all categorical columns\n",
        "categorical = df.select_dtypes(include='object').columns\n",
        "print(categorical)"
      ]
    },
    {
      "cell_type": "code",
      "execution_count": 5,
      "metadata": {
        "colab": {
          "base_uri": "https://localhost:8080/",
          "height": 238
        },
        "id": "hnWlzkiO4RkQ",
        "outputId": "987b9aec-e2bc-4b35-c3e1-e83710f9d8d2"
      },
      "outputs": [
        {
          "data": {
            "text/html": [
              "<div>\n",
              "<style scoped>\n",
              "    .dataframe tbody tr th:only-of-type {\n",
              "        vertical-align: middle;\n",
              "    }\n",
              "\n",
              "    .dataframe tbody tr th {\n",
              "        vertical-align: top;\n",
              "    }\n",
              "\n",
              "    .dataframe thead th {\n",
              "        text-align: right;\n",
              "    }\n",
              "</style>\n",
              "<table border=\"1\" class=\"dataframe\">\n",
              "  <thead>\n",
              "    <tr style=\"text-align: right;\">\n",
              "      <th></th>\n",
              "      <th>age</th>\n",
              "      <th>balance</th>\n",
              "      <th>day</th>\n",
              "      <th>duration</th>\n",
              "      <th>campaign</th>\n",
              "      <th>pdays</th>\n",
              "      <th>previous</th>\n",
              "      <th>job_admin.</th>\n",
              "      <th>job_blue-collar</th>\n",
              "      <th>job_entrepreneur</th>\n",
              "      <th>job_housemaid</th>\n",
              "      <th>job_management</th>\n",
              "      <th>job_retired</th>\n",
              "      <th>job_self-employed</th>\n",
              "      <th>job_services</th>\n",
              "      <th>job_student</th>\n",
              "      <th>job_technician</th>\n",
              "      <th>job_unemployed</th>\n",
              "      <th>job_unknown</th>\n",
              "      <th>marital_divorced</th>\n",
              "      <th>marital_married</th>\n",
              "      <th>marital_single</th>\n",
              "      <th>education_primary</th>\n",
              "      <th>education_secondary</th>\n",
              "      <th>education_tertiary</th>\n",
              "      <th>education_unknown</th>\n",
              "      <th>default_no</th>\n",
              "      <th>default_yes</th>\n",
              "      <th>housing_no</th>\n",
              "      <th>housing_yes</th>\n",
              "      <th>loan_no</th>\n",
              "      <th>loan_yes</th>\n",
              "      <th>contact_cellular</th>\n",
              "      <th>contact_telephone</th>\n",
              "      <th>contact_unknown</th>\n",
              "      <th>month_apr</th>\n",
              "      <th>month_aug</th>\n",
              "      <th>month_dec</th>\n",
              "      <th>month_feb</th>\n",
              "      <th>month_jan</th>\n",
              "      <th>month_jul</th>\n",
              "      <th>month_jun</th>\n",
              "      <th>month_mar</th>\n",
              "      <th>month_may</th>\n",
              "      <th>month_nov</th>\n",
              "      <th>month_oct</th>\n",
              "      <th>month_sep</th>\n",
              "      <th>poutcome_failure</th>\n",
              "      <th>poutcome_other</th>\n",
              "      <th>poutcome_success</th>\n",
              "      <th>poutcome_unknown</th>\n",
              "      <th>y_0</th>\n",
              "      <th>y_1</th>\n",
              "    </tr>\n",
              "  </thead>\n",
              "  <tbody>\n",
              "    <tr>\n",
              "      <th>0</th>\n",
              "      <td>58</td>\n",
              "      <td>2143</td>\n",
              "      <td>5</td>\n",
              "      <td>261</td>\n",
              "      <td>1</td>\n",
              "      <td>-1</td>\n",
              "      <td>0</td>\n",
              "      <td>0</td>\n",
              "      <td>0</td>\n",
              "      <td>0</td>\n",
              "      <td>0</td>\n",
              "      <td>1</td>\n",
              "      <td>0</td>\n",
              "      <td>0</td>\n",
              "      <td>0</td>\n",
              "      <td>0</td>\n",
              "      <td>0</td>\n",
              "      <td>0</td>\n",
              "      <td>0</td>\n",
              "      <td>0</td>\n",
              "      <td>1</td>\n",
              "      <td>0</td>\n",
              "      <td>0</td>\n",
              "      <td>0</td>\n",
              "      <td>1</td>\n",
              "      <td>0</td>\n",
              "      <td>1</td>\n",
              "      <td>0</td>\n",
              "      <td>0</td>\n",
              "      <td>1</td>\n",
              "      <td>1</td>\n",
              "      <td>0</td>\n",
              "      <td>0</td>\n",
              "      <td>0</td>\n",
              "      <td>1</td>\n",
              "      <td>0</td>\n",
              "      <td>0</td>\n",
              "      <td>0</td>\n",
              "      <td>0</td>\n",
              "      <td>0</td>\n",
              "      <td>0</td>\n",
              "      <td>0</td>\n",
              "      <td>0</td>\n",
              "      <td>1</td>\n",
              "      <td>0</td>\n",
              "      <td>0</td>\n",
              "      <td>0</td>\n",
              "      <td>0</td>\n",
              "      <td>0</td>\n",
              "      <td>0</td>\n",
              "      <td>1</td>\n",
              "      <td>1</td>\n",
              "      <td>0</td>\n",
              "    </tr>\n",
              "    <tr>\n",
              "      <th>1</th>\n",
              "      <td>44</td>\n",
              "      <td>29</td>\n",
              "      <td>5</td>\n",
              "      <td>151</td>\n",
              "      <td>1</td>\n",
              "      <td>-1</td>\n",
              "      <td>0</td>\n",
              "      <td>0</td>\n",
              "      <td>0</td>\n",
              "      <td>0</td>\n",
              "      <td>0</td>\n",
              "      <td>0</td>\n",
              "      <td>0</td>\n",
              "      <td>0</td>\n",
              "      <td>0</td>\n",
              "      <td>0</td>\n",
              "      <td>1</td>\n",
              "      <td>0</td>\n",
              "      <td>0</td>\n",
              "      <td>0</td>\n",
              "      <td>0</td>\n",
              "      <td>1</td>\n",
              "      <td>0</td>\n",
              "      <td>1</td>\n",
              "      <td>0</td>\n",
              "      <td>0</td>\n",
              "      <td>1</td>\n",
              "      <td>0</td>\n",
              "      <td>0</td>\n",
              "      <td>1</td>\n",
              "      <td>1</td>\n",
              "      <td>0</td>\n",
              "      <td>0</td>\n",
              "      <td>0</td>\n",
              "      <td>1</td>\n",
              "      <td>0</td>\n",
              "      <td>0</td>\n",
              "      <td>0</td>\n",
              "      <td>0</td>\n",
              "      <td>0</td>\n",
              "      <td>0</td>\n",
              "      <td>0</td>\n",
              "      <td>0</td>\n",
              "      <td>1</td>\n",
              "      <td>0</td>\n",
              "      <td>0</td>\n",
              "      <td>0</td>\n",
              "      <td>0</td>\n",
              "      <td>0</td>\n",
              "      <td>0</td>\n",
              "      <td>1</td>\n",
              "      <td>1</td>\n",
              "      <td>0</td>\n",
              "    </tr>\n",
              "    <tr>\n",
              "      <th>2</th>\n",
              "      <td>33</td>\n",
              "      <td>2</td>\n",
              "      <td>5</td>\n",
              "      <td>76</td>\n",
              "      <td>1</td>\n",
              "      <td>-1</td>\n",
              "      <td>0</td>\n",
              "      <td>0</td>\n",
              "      <td>0</td>\n",
              "      <td>1</td>\n",
              "      <td>0</td>\n",
              "      <td>0</td>\n",
              "      <td>0</td>\n",
              "      <td>0</td>\n",
              "      <td>0</td>\n",
              "      <td>0</td>\n",
              "      <td>0</td>\n",
              "      <td>0</td>\n",
              "      <td>0</td>\n",
              "      <td>0</td>\n",
              "      <td>1</td>\n",
              "      <td>0</td>\n",
              "      <td>0</td>\n",
              "      <td>1</td>\n",
              "      <td>0</td>\n",
              "      <td>0</td>\n",
              "      <td>1</td>\n",
              "      <td>0</td>\n",
              "      <td>0</td>\n",
              "      <td>1</td>\n",
              "      <td>0</td>\n",
              "      <td>1</td>\n",
              "      <td>0</td>\n",
              "      <td>0</td>\n",
              "      <td>1</td>\n",
              "      <td>0</td>\n",
              "      <td>0</td>\n",
              "      <td>0</td>\n",
              "      <td>0</td>\n",
              "      <td>0</td>\n",
              "      <td>0</td>\n",
              "      <td>0</td>\n",
              "      <td>0</td>\n",
              "      <td>1</td>\n",
              "      <td>0</td>\n",
              "      <td>0</td>\n",
              "      <td>0</td>\n",
              "      <td>0</td>\n",
              "      <td>0</td>\n",
              "      <td>0</td>\n",
              "      <td>1</td>\n",
              "      <td>1</td>\n",
              "      <td>0</td>\n",
              "    </tr>\n",
              "    <tr>\n",
              "      <th>3</th>\n",
              "      <td>47</td>\n",
              "      <td>1506</td>\n",
              "      <td>5</td>\n",
              "      <td>92</td>\n",
              "      <td>1</td>\n",
              "      <td>-1</td>\n",
              "      <td>0</td>\n",
              "      <td>0</td>\n",
              "      <td>1</td>\n",
              "      <td>0</td>\n",
              "      <td>0</td>\n",
              "      <td>0</td>\n",
              "      <td>0</td>\n",
              "      <td>0</td>\n",
              "      <td>0</td>\n",
              "      <td>0</td>\n",
              "      <td>0</td>\n",
              "      <td>0</td>\n",
              "      <td>0</td>\n",
              "      <td>0</td>\n",
              "      <td>1</td>\n",
              "      <td>0</td>\n",
              "      <td>0</td>\n",
              "      <td>0</td>\n",
              "      <td>0</td>\n",
              "      <td>1</td>\n",
              "      <td>1</td>\n",
              "      <td>0</td>\n",
              "      <td>0</td>\n",
              "      <td>1</td>\n",
              "      <td>1</td>\n",
              "      <td>0</td>\n",
              "      <td>0</td>\n",
              "      <td>0</td>\n",
              "      <td>1</td>\n",
              "      <td>0</td>\n",
              "      <td>0</td>\n",
              "      <td>0</td>\n",
              "      <td>0</td>\n",
              "      <td>0</td>\n",
              "      <td>0</td>\n",
              "      <td>0</td>\n",
              "      <td>0</td>\n",
              "      <td>1</td>\n",
              "      <td>0</td>\n",
              "      <td>0</td>\n",
              "      <td>0</td>\n",
              "      <td>0</td>\n",
              "      <td>0</td>\n",
              "      <td>0</td>\n",
              "      <td>1</td>\n",
              "      <td>1</td>\n",
              "      <td>0</td>\n",
              "    </tr>\n",
              "    <tr>\n",
              "      <th>4</th>\n",
              "      <td>33</td>\n",
              "      <td>1</td>\n",
              "      <td>5</td>\n",
              "      <td>198</td>\n",
              "      <td>1</td>\n",
              "      <td>-1</td>\n",
              "      <td>0</td>\n",
              "      <td>0</td>\n",
              "      <td>0</td>\n",
              "      <td>0</td>\n",
              "      <td>0</td>\n",
              "      <td>0</td>\n",
              "      <td>0</td>\n",
              "      <td>0</td>\n",
              "      <td>0</td>\n",
              "      <td>0</td>\n",
              "      <td>0</td>\n",
              "      <td>0</td>\n",
              "      <td>1</td>\n",
              "      <td>0</td>\n",
              "      <td>0</td>\n",
              "      <td>1</td>\n",
              "      <td>0</td>\n",
              "      <td>0</td>\n",
              "      <td>0</td>\n",
              "      <td>1</td>\n",
              "      <td>1</td>\n",
              "      <td>0</td>\n",
              "      <td>1</td>\n",
              "      <td>0</td>\n",
              "      <td>1</td>\n",
              "      <td>0</td>\n",
              "      <td>0</td>\n",
              "      <td>0</td>\n",
              "      <td>1</td>\n",
              "      <td>0</td>\n",
              "      <td>0</td>\n",
              "      <td>0</td>\n",
              "      <td>0</td>\n",
              "      <td>0</td>\n",
              "      <td>0</td>\n",
              "      <td>0</td>\n",
              "      <td>0</td>\n",
              "      <td>1</td>\n",
              "      <td>0</td>\n",
              "      <td>0</td>\n",
              "      <td>0</td>\n",
              "      <td>0</td>\n",
              "      <td>0</td>\n",
              "      <td>0</td>\n",
              "      <td>1</td>\n",
              "      <td>1</td>\n",
              "      <td>0</td>\n",
              "    </tr>\n",
              "  </tbody>\n",
              "</table>\n",
              "</div>"
            ],
            "text/plain": [
              "   age  balance  day  duration  ...  poutcome_success  poutcome_unknown  y_0  y_1\n",
              "0   58     2143    5       261  ...                 0                 1    1    0\n",
              "1   44       29    5       151  ...                 0                 1    1    0\n",
              "2   33        2    5        76  ...                 0                 1    1    0\n",
              "3   47     1506    5        92  ...                 0                 1    1    0\n",
              "4   33        1    5       198  ...                 0                 1    1    0\n",
              "\n",
              "[5 rows x 53 columns]"
            ]
          },
          "execution_count": 5,
          "metadata": {
            "tags": []
          },
          "output_type": "execute_result"
        }
      ],
      "source": [
        "# Hot encode all categorical columns\n",
        "for i in categorical:\n",
        "        new_cols = pd.get_dummies(df[i], prefix=i)\n",
        "        df = df.drop(i, axis=1)\n",
        "        df = df.join(new_cols)\n",
        "\n",
        "df.head()"
      ]
    },
    {
      "cell_type": "code",
      "execution_count": 7,
      "metadata": {
        "colab": {
          "base_uri": "https://localhost:8080/"
        },
        "id": "rGJqogsK02f9",
        "outputId": "6b811034-50db-4ed0-db0e-239f1d201d60"
      },
      "outputs": [
        {
          "data": {
            "text/plain": [
              "age                    False\n",
              "balance                False\n",
              "day                    False\n",
              "duration               False\n",
              "campaign               False\n",
              "pdays                  False\n",
              "previous               False\n",
              "job_admin.             False\n",
              "job_blue-collar        False\n",
              "job_entrepreneur       False\n",
              "job_housemaid          False\n",
              "job_management         False\n",
              "job_retired            False\n",
              "job_self-employed      False\n",
              "job_services           False\n",
              "job_student            False\n",
              "job_technician         False\n",
              "job_unemployed         False\n",
              "job_unknown            False\n",
              "marital_divorced       False\n",
              "marital_married        False\n",
              "marital_single         False\n",
              "education_primary      False\n",
              "education_secondary    False\n",
              "education_tertiary     False\n",
              "education_unknown      False\n",
              "default_no             False\n",
              "default_yes            False\n",
              "housing_no             False\n",
              "housing_yes            False\n",
              "loan_no                False\n",
              "loan_yes               False\n",
              "contact_cellular       False\n",
              "contact_telephone      False\n",
              "contact_unknown        False\n",
              "month_apr              False\n",
              "month_aug              False\n",
              "month_dec              False\n",
              "month_feb              False\n",
              "month_jan              False\n",
              "month_jul              False\n",
              "month_jun              False\n",
              "month_mar              False\n",
              "month_may              False\n",
              "month_nov              False\n",
              "month_oct              False\n",
              "month_sep              False\n",
              "poutcome_failure       False\n",
              "poutcome_other         False\n",
              "poutcome_success       False\n",
              "poutcome_unknown       False\n",
              "y_0                    False\n",
              "y_1                    False\n",
              "dtype: bool"
            ]
          },
          "execution_count": 7,
          "metadata": {
            "tags": []
          },
          "output_type": "execute_result"
        }
      ],
      "source": [
        "# Null value\n",
        "df.isna().any()"
      ]
    },
    {
      "cell_type": "code",
      "execution_count": 6,
      "metadata": {
        "colab": {
          "base_uri": "https://localhost:8080/"
        },
        "id": "ze01PI2WVn2S",
        "outputId": "3c9b21a1-399d-4bb2-f8f2-b2eae526faa7"
      },
      "outputs": [
        {
          "name": "stdout",
          "output_type": "stream",
          "text": [
            "(38429, 53)\n",
            "(6782, 53)\n"
          ]
        }
      ],
      "source": [
        "# TODO - Process Data\n",
        "# Split data for train & test\n",
        "from sklearn.model_selection import train_test_split\n",
        "Train, Test = train_test_split(df, test_size=0.15, random_state=10, shuffle=True)\n",
        "print(Train.shape)\n",
        "print(Test.shape)"
      ]
    },
    {
      "cell_type": "code",
      "execution_count": 7,
      "metadata": {
        "id": "Ga1M1dKaDOAJ"
      },
      "outputs": [],
      "source": [
        "# Transform features by scaling each feature to a given range.\n",
        "from sklearn import preprocessing\n",
        "min_max_scaler = preprocessing.MinMaxScaler()\n",
        "\n",
        "X_Train = min_max_scaler.fit_transform(Train.drop(['y_0','y_1'], axis=1))\n",
        "y_Train = Train[['y_0','y_1']].values\n",
        "\n",
        "X_Test = min_max_scaler.fit_transform(Test.drop(['y_0','y_1'], axis=1))\n",
        "y_Test = Test[['y_0','y_1']].values"
      ]
    },
    {
      "cell_type": "code",
      "execution_count": 8,
      "metadata": {
        "colab": {
          "base_uri": "https://localhost:8080/"
        },
        "id": "u828mh8YEN9O",
        "outputId": "dd44385a-af84-4735-e501-51868e76dd9f"
      },
      "outputs": [
        {
          "name": "stdout",
          "output_type": "stream",
          "text": [
            "(38429, 51)\n",
            "(38429, 2)\n",
            "(6782, 51)\n",
            "(6782, 2)\n"
          ]
        }
      ],
      "source": [
        "print(X_Train.shape)\n",
        "print(y_Train.shape)\n",
        "print(X_Test.shape)\n",
        "print(y_Test.shape)"
      ]
    },
    {
      "cell_type": "code",
      "execution_count": 9,
      "metadata": {
        "colab": {
          "base_uri": "https://localhost:8080/"
        },
        "id": "USmfvLfcEx5_",
        "outputId": "299ba244-14d9-4d4d-b27e-81e3dd58bc50"
      },
      "outputs": [
        {
          "name": "stdout",
          "output_type": "stream",
          "text": [
            "[[0.4025974  0.06335456 0.8        ... 0.         0.         1.        ]\n",
            " [0.46753247 0.0654468  0.96666667 ... 1.         0.         0.        ]\n",
            " [0.2987013  0.07569696 1.         ... 0.         0.         1.        ]\n",
            " ...\n",
            " [0.16883117 0.07774331 0.03333333 ... 0.         0.         1.        ]\n",
            " [0.11688312 0.06594233 0.1        ... 0.         0.         1.        ]\n",
            " [0.4025974  0.07752308 0.93333333 ... 0.         0.         1.        ]]\n"
          ]
        }
      ],
      "source": [
        "print(X_Train)"
      ]
    },
    {
      "cell_type": "code",
      "execution_count": 10,
      "metadata": {
        "colab": {
          "base_uri": "https://localhost:8080/"
        },
        "id": "Oc3JHlkeE2ZJ",
        "outputId": "ee910400-c94b-4ea6-a3e9-bb410f24a456"
      },
      "outputs": [
        {
          "name": "stdout",
          "output_type": "stream",
          "text": [
            "[[1 0]\n",
            " [1 0]\n",
            " [1 0]\n",
            " ...\n",
            " [1 0]\n",
            " [0 1]\n",
            " [1 0]]\n"
          ]
        }
      ],
      "source": [
        "print(y_Train)"
      ]
    },
    {
      "cell_type": "code",
      "execution_count": 11,
      "metadata": {
        "id": "35iDxY5FVn0i"
      },
      "outputs": [],
      "source": [
        "# TODO - Develop Model \n",
        "import tensorflow as tf\n",
        "from tensorflow import keras\n",
        "from tensorflow.keras.models import Sequential\n",
        "from tensorflow.keras.layers import Dense, BatchNormalization, Dropout\n",
        "import tensorflow.keras.backend as K"
      ]
    },
    {
      "cell_type": "code",
      "execution_count": 12,
      "metadata": {
        "colab": {
          "base_uri": "https://localhost:8080/"
        },
        "id": "0HYYlo_tMs1T",
        "outputId": "f1ba1a2f-33ee-4dc4-c7e5-0d4ea15b445b"
      },
      "outputs": [
        {
          "name": "stdout",
          "output_type": "stream",
          "text": [
            "Epoch 1/100\n",
            "1922/1922 [==============================] - 4s 2ms/step - loss: 0.3527 - accuracy: 0.8659 - val_loss: 0.2804 - val_accuracy: 0.8865\n",
            "Epoch 2/100\n",
            "1922/1922 [==============================] - 3s 2ms/step - loss: 0.2601 - accuracy: 0.8978 - val_loss: 0.2529 - val_accuracy: 0.8940\n",
            "Epoch 3/100\n",
            "1922/1922 [==============================] - 3s 2ms/step - loss: 0.2495 - accuracy: 0.8995 - val_loss: 0.2535 - val_accuracy: 0.8933\n",
            "Epoch 4/100\n",
            "1922/1922 [==============================] - 3s 2ms/step - loss: 0.2476 - accuracy: 0.8995 - val_loss: 0.2534 - val_accuracy: 0.8940\n",
            "Epoch 5/100\n",
            "1922/1922 [==============================] - 3s 2ms/step - loss: 0.2421 - accuracy: 0.9018 - val_loss: 0.2437 - val_accuracy: 0.8920\n",
            "Epoch 6/100\n",
            "1922/1922 [==============================] - 3s 2ms/step - loss: 0.2414 - accuracy: 0.8995 - val_loss: 0.2398 - val_accuracy: 0.8959\n",
            "Epoch 7/100\n",
            "1922/1922 [==============================] - 3s 2ms/step - loss: 0.2378 - accuracy: 0.9003 - val_loss: 0.2412 - val_accuracy: 0.8947\n",
            "Epoch 8/100\n",
            "1922/1922 [==============================] - 3s 2ms/step - loss: 0.2361 - accuracy: 0.9018 - val_loss: 0.2404 - val_accuracy: 0.8945\n",
            "Epoch 9/100\n",
            "1922/1922 [==============================] - 3s 2ms/step - loss: 0.2360 - accuracy: 0.8997 - val_loss: 0.2487 - val_accuracy: 0.8963\n",
            "Epoch 10/100\n",
            "1922/1922 [==============================] - 3s 2ms/step - loss: 0.2353 - accuracy: 0.9017 - val_loss: 0.2407 - val_accuracy: 0.8959\n",
            "Epoch 11/100\n",
            "1922/1922 [==============================] - 3s 2ms/step - loss: 0.2341 - accuracy: 0.9018 - val_loss: 0.2486 - val_accuracy: 0.8989\n",
            "Epoch 12/100\n",
            "1922/1922 [==============================] - 3s 2ms/step - loss: 0.2350 - accuracy: 0.8999 - val_loss: 0.2369 - val_accuracy: 0.8954\n",
            "Epoch 13/100\n",
            "1922/1922 [==============================] - 3s 2ms/step - loss: 0.2332 - accuracy: 0.9026 - val_loss: 0.2357 - val_accuracy: 0.8975\n",
            "Epoch 14/100\n",
            "1922/1922 [==============================] - 3s 2ms/step - loss: 0.2332 - accuracy: 0.9018 - val_loss: 0.2388 - val_accuracy: 0.8942\n",
            "Epoch 15/100\n",
            "1922/1922 [==============================] - 3s 2ms/step - loss: 0.2330 - accuracy: 0.9010 - val_loss: 0.2396 - val_accuracy: 0.8946\n",
            "Epoch 16/100\n",
            "1922/1922 [==============================] - 3s 2ms/step - loss: 0.2308 - accuracy: 0.9032 - val_loss: 0.2367 - val_accuracy: 0.8988\n",
            "Epoch 17/100\n",
            "1922/1922 [==============================] - 3s 2ms/step - loss: 0.2334 - accuracy: 0.9010 - val_loss: 0.2359 - val_accuracy: 0.8979\n",
            "Epoch 18/100\n",
            "1922/1922 [==============================] - 3s 2ms/step - loss: 0.2310 - accuracy: 0.9032 - val_loss: 0.2378 - val_accuracy: 0.8947\n",
            "Epoch 19/100\n",
            "1922/1922 [==============================] - 3s 2ms/step - loss: 0.2313 - accuracy: 0.9024 - val_loss: 0.2349 - val_accuracy: 0.8964\n"
          ]
        }
      ],
      "source": [
        "#random.seed(111)\n",
        "K.clear_session()\n",
        "\n",
        "# Setup the layers\n",
        "model = tf.keras.Sequential()\n",
        "model.add(Dense(input_dim=51, units=16,activation='relu'))   \n",
        "#model.add(BatchNormalization())\n",
        "#model.add(Dropout(0.5))\n",
        "\n",
        "model.add(Dense(32, activation='relu'))     \n",
        "model.add(BatchNormalization())\n",
        "model.add(Dropout(0.5))\n",
        "\n",
        "model.add(Dense(2, activation ='softmax'))                                 \n",
        "\n",
        "earlyStopping_callback = tf.keras.callbacks.EarlyStopping(monitor='loss', patience=3)\n",
        "lr_schedule = keras.optimizers.schedules.ExponentialDecay(initial_learning_rate=0.001, decay_steps=10000, decay_rate=0.9)\n",
        "opt = tf.keras.optimizers.RMSprop(learning_rate=lr_schedule, rho=0.9, epsilon=1e-07, decay=0.0)\n",
        "model.compile(loss='categorical_crossentropy', optimizer='rmsprop', metrics=['accuracy'])\n",
        "\n",
        "h = model.fit(X_Train, y_Train, batch_size=16, epochs=100, validation_split=0.2, callbacks=[earlyStopping_callback])"
      ]
    },
    {
      "cell_type": "code",
      "execution_count": 13,
      "metadata": {
        "colab": {
          "base_uri": "https://localhost:8080/"
        },
        "id": "AMsc0TPQWE2j",
        "outputId": "c91bdafa-df4c-4124-8297-185d57c9de97"
      },
      "outputs": [
        {
          "name": "stdout",
          "output_type": "stream",
          "text": [
            "Model: \"sequential\"\n",
            "_________________________________________________________________\n",
            "Layer (type)                 Output Shape              Param #   \n",
            "=================================================================\n",
            "dense (Dense)                (None, 16)                832       \n",
            "_________________________________________________________________\n",
            "dense_1 (Dense)              (None, 32)                544       \n",
            "_________________________________________________________________\n",
            "batch_normalization (BatchNo (None, 32)                128       \n",
            "_________________________________________________________________\n",
            "dropout (Dropout)            (None, 32)                0         \n",
            "_________________________________________________________________\n",
            "dense_2 (Dense)              (None, 2)                 66        \n",
            "=================================================================\n",
            "Total params: 1,570\n",
            "Trainable params: 1,506\n",
            "Non-trainable params: 64\n",
            "_________________________________________________________________\n"
          ]
        }
      ],
      "source": [
        "model.summary()"
      ]
    },
    {
      "cell_type": "code",
      "execution_count": 14,
      "metadata": {
        "colab": {
          "base_uri": "https://localhost:8080/",
          "height": 520
        },
        "id": "9e_13D23caqB",
        "outputId": "9297930f-0398-40f1-c3a9-19cc9d406c4c"
      },
      "outputs": [
        {
          "data": {
            "text/plain": [
              "<matplotlib.legend.Legend at 0x7fc65b660290>"
            ]
          },
          "execution_count": 14,
          "metadata": {
            "tags": []
          },
          "output_type": "execute_result"
        },
        {
          "data": {
            "image/png": "[encoded data removed]",
            "text/plain": [
              "<Figure size 1440x576 with 2 Axes>"
            ]
          },
          "metadata": {
            "needs_background": "light",
            "tags": []
          },
          "output_type": "display_data"
        }
      ],
      "source": [
        "import matplotlib.pyplot as plt\n",
        "\n",
        "fig, axs = plt.subplots(1, 2, figsize=(20,8))\n",
        "\n",
        "axs[0].plot(h.history['loss'], label='Training')\n",
        "axs[0].plot(h.history['val_loss'], label='Valuation')\n",
        "axs[0].set_title('Loss', fontsize=18)\n",
        "axs[0].grid(True)\n",
        "axs[0].legend(fontsize=12)\n",
        "\n",
        "axs[1].plot(h.history['accuracy'], label='Training')\n",
        "axs[1].plot(h.history['val_accuracy'], label='Valuation')\n",
        "axs[1].set_title('Accuracy', fontsize=18)\n",
        "axs[1].grid(True)\n",
        "axs[1].legend(fontsize=12)"
      ]
    },
    {
      "cell_type": "code",
      "execution_count": 15,
      "metadata": {
        "colab": {
          "base_uri": "https://localhost:8080/"
        },
        "id": "l8gP82xKCYgq",
        "outputId": "c53093bb-9cef-42f3-fe33-f8681539facd"
      },
      "outputs": [
        {
          "name": "stdout",
          "output_type": "stream",
          "text": [
            "Evaluate on test data\n",
            "106/106 [==============================] - 0s 1ms/step - loss: 0.2351 - accuracy: 0.9003\n",
            "Test Loss, Test Accuracy: [0.23507060110569, 0.9003244042396545]\n"
          ]
        }
      ],
      "source": [
        "# Evaluate the model on the test data \n",
        "print(\"Evaluate on test data\")\n",
        "results = model.evaluate(X_Test, y_Test, batch_size=64)\n",
        "print(\"Test Loss, Test Accuracy:\", results)"
      ]
    },
    {
      "cell_type": "code",
      "execution_count": 16,
      "metadata": {
        "colab": {
          "base_uri": "https://localhost:8080/"
        },
        "id": "uTC-nhYS-t9n",
        "outputId": "8f6d3592-3fdf-4190-aff8-f376ff028d40"
      },
      "outputs": [
        {
          "name": "stdout",
          "output_type": "stream",
          "text": [
            "[[0.98732346 0.01267654]\n",
            " [0.9970114  0.00298852]\n",
            " [0.6369065  0.3630934 ]\n",
            " [0.950125   0.04987498]\n",
            " [0.99194497 0.008055  ]\n",
            " [0.9883532  0.01164686]\n",
            " [0.95459247 0.04540759]\n",
            " [0.9966575  0.00334245]\n",
            " [0.93854916 0.06145079]\n",
            " [0.4596276  0.54037243]]\n"
          ]
        }
      ],
      "source": [
        "Y_pred=model.predict(X_Test[:10])\n",
        "print(Y_pred)"
      ]
    },
    {
      "cell_type": "code",
      "execution_count": 17,
      "metadata": {
        "colab": {
          "base_uri": "https://localhost:8080/"
        },
        "id": "CbgF3vkQFb-Z",
        "outputId": "da07b1ca-62b2-4af0-c6c8-f5ad1f45951e"
      },
      "outputs": [
        {
          "name": "stdout",
          "output_type": "stream",
          "text": [
            "0\n"
          ]
        }
      ],
      "source": [
        "a=X_Test[0]\n",
        "b=a.reshape(-1,51)\n",
        "Choose_pred=np.argmax(model.predict(b), axis=-1)\n",
        "\n",
        "print(Choose_pred[0])"
      ]
    },
    {
      "cell_type": "code",
      "execution_count": 18,
      "metadata": {
        "id": "taYsMiT1Vnx6"
      },
      "outputs": [],
      "source": [
        "# TODO -  Set project name, bucket name, authenticate to GCP\n",
        "\n",
        "PROJECT_ID = \"marie-noel-lepage\" #@param {type:\"string\"}\n",
        "\n",
        "# This must absolutely be a GLOBALLY UNIQUE name\n",
        "BUCKET_NAME = \"model_mnl_1\" #@param {type:\"string\"}\n",
        "REGION = \"us-central1\" #@param {type:\"string\"}"
      ]
    },
    {
      "cell_type": "code",
      "execution_count": 19,
      "metadata": {
        "colab": {
          "base_uri": "https://localhost:8080/"
        },
        "id": "GZ2tFl1b2XDI",
        "outputId": "2aa1d53b-28fb-4064-a9cc-ebaab10303e5"
      },
      "outputs": [
        {
          "name": "stdout",
          "output_type": "stream",
          "text": [
            "Updated property [core/project].\n",
            "marie-noel-lepage\n"
          ]
        }
      ],
      "source": [
        "! gcloud config set project $PROJECT_ID\n",
        "! echo $PROJECT_ID"
      ]
    },
    {
      "cell_type": "code",
      "execution_count": 20,
      "metadata": {
        "id": "IUoxFrhV4Hbv"
      },
      "outputs": [],
      "source": [
        "# Authenticate\n",
        "import sys\n",
        "\n",
        "if 'google.colab' in sys.modules:\n",
        "  from google.colab import auth as google_auth\n",
        "  google_auth.authenticate_user()\n",
        "else:\n",
        "  %env GOOGLE_APPLICATION_CREDENTIALS ''"
      ]
    },
    {
      "cell_type": "code",
      "execution_count": 21,
      "metadata": {
        "colab": {
          "base_uri": "https://localhost:8080/"
        },
        "id": "Qe6TlvTQ4kjf",
        "outputId": "83c61fe7-379d-4f5e-f806-a73870a90e9a"
      },
      "outputs": [
        {
          "name": "stdout",
          "output_type": "stream",
          "text": [
            "gs://model_mnl_1/model_mnl_1\n"
          ]
        }
      ],
      "source": [
        "# Job directory\n",
        "JOB_DIR = 'gs://' + BUCKET_NAME + '/model_mnl_1'\n",
        "print(JOB_DIR)"
      ]
    },
    {
      "cell_type": "code",
      "execution_count": 22,
      "metadata": {
        "colab": {
          "base_uri": "https://localhost:8080/"
        },
        "id": "sSaxSEsW40y6",
        "outputId": "5533c469-af68-407f-f71d-d99d97e9ea5f"
      },
      "outputs": [
        {
          "name": "stdout",
          "output_type": "stream",
          "text": [
            "INFO:tensorflow:Assets written to: gs://model_mnl_1/model_mnl_1/keras_export/assets\n",
            "<class 'NoneType'>\n",
            "Model exported to:  None\n"
          ]
        }
      ],
      "source": [
        "# save model\n",
        "export_path = tf.keras.models.save_model(model, JOB_DIR + '/keras_export')\n",
        "print(type(export_path))\n",
        "print(\"Model exported to: \", export_path)"
      ]
    },
    {
      "cell_type": "code",
      "execution_count": null,
      "metadata": {
        "id": "amvDI0XaV5nQ"
      },
      "outputs": [],
      "source": [
        "# TODO -  Deploy Model"
      ]
    },
    {
      "cell_type": "code",
      "execution_count": 24,
      "metadata": {
        "colab": {
          "base_uri": "https://localhost:8080/"
        },
        "id": "wlpVSLHDJzlD",
        "outputId": "87320783-2a2f-40bb-9274-5182ea18930b"
      },
      "outputs": [
        {
          "name": "stdout",
          "output_type": "stream",
          "text": [
            "Display what is in the bucket :\n",
            "\n",
            "                                 gs://model_mnl_1/model_mnl_1/\n"
          ]
        }
      ],
      "source": [
        "# Show bucket with save model\n",
        "a = \"model_mnl_1\" # Model name  that TensorFlow serving is keep it up and running ~~~\n",
        "\n",
        "print('Display what is in the bucket :\\n')\n",
        "!gsutil ls -al gs://$a"
      ]
    },
    {
      "cell_type": "code",
      "execution_count": 25,
      "metadata": {
        "colab": {
          "base_uri": "https://localhost:8080/"
        },
        "id": "AtSAKNBIJ9az",
        "outputId": "79aec160-a3a6-4110-85ce-527853f4f09b"
      },
      "outputs": [
        {
          "name": "stdout",
          "output_type": "stream",
          "text": [
            "Using endpoint [https://us-central1-ml.googleapis.com/]\n",
            "Created ai platform model [projects/marie-noel-lepage/models/model_mnl_1].\n"
          ]
        }
      ],
      "source": [
        "# Work towards model version instance\n",
        "MODEL_NAME = 'model_mnl_1'\n",
        "MODEL_VERSION = 'v1'\n",
        "\n",
        "! gcloud ai-platform models create $MODEL_NAME --region $REGION"
      ]
    },
    {
      "cell_type": "code",
      "execution_count": 26,
      "metadata": {
        "colab": {
          "base_uri": "https://localhost:8080/"
        },
        "id": "jiLAoG_PKDO-",
        "outputId": "eff3c77f-e74a-454d-c099-bcf6b8c4eca7"
      },
      "outputs": [
        {
          "name": "stdout",
          "output_type": "stream",
          "text": [
            "! gsutil ls $JOB_DIR/keras_export/ \n",
            "\n",
            "['gs://model_mnl_1/model_mnl_1/keras_export/', 'gs://model_mnl_1/model_mnl_1/keras_export/keras_metadata.pb', 'gs://model_mnl_1/model_mnl_1/keras_export/saved_model.pb', 'gs://model_mnl_1/model_mnl_1/keras_export/assets/', 'gs://model_mnl_1/model_mnl_1/keras_export/variables/']\n",
            "-------------------------\n"
          ]
        }
      ],
      "source": [
        "# Get a list of directories in the keras_export parent directory\n",
        "KERAS_EXPORT_DIRS = ! gsutil ls $JOB_DIR/keras_export/\n",
        "print(\"! gsutil ls $JOB_DIR/keras_export/ \\n\")\n",
        "print(KERAS_EXPORT_DIRS)\n",
        "print(\"-------------------------\")"
      ]
    },
    {
      "cell_type": "code",
      "execution_count": 27,
      "metadata": {
        "colab": {
          "base_uri": "https://localhost:8080/"
        },
        "id": "tVn6XgYMKH8z",
        "outputId": "98c9e055-e57c-4bcb-ea3f-15066b464895"
      },
      "outputs": [
        {
          "name": "stdout",
          "output_type": "stream",
          "text": [
            "Saved_model_path \n",
            "\n",
            "gs://model_mnl_1/model_mnl_1/keras_export/\n"
          ]
        }
      ],
      "source": [
        "SAVED_MODEL_PATH = KERAS_EXPORT_DIRS[0]\n",
        "print(\"Saved_model_path \\n\")\n",
        "print(SAVED_MODEL_PATH)"
      ]
    },
    {
      "cell_type": "code",
      "execution_count": 28,
      "metadata": {
        "colab": {
          "base_uri": "https://localhost:8080/"
        },
        "id": "9b8Lw0B9KK6o",
        "outputId": "1aeb7234-34a3-400c-d840-60562f86f845"
      },
      "outputs": [
        {
          "name": "stdout",
          "output_type": "stream",
          "text": [
            "Updated property [ai_platform/region].\n",
            "Using endpoint [https://us-central1-ml.googleapis.com/]\n"
          ]
        }
      ],
      "source": [
        "# Create model version based on that SavedModel directory\n",
        "!gcloud config set ai_platform/region us-central1\n",
        "! gcloud ai-platform versions create $MODEL_VERSION \\\n",
        "  --model $MODEL_NAME \\\n",
        "  --runtime-version 2.2 \\\n",
        "  --python-version 3.7 \\\n",
        "  --framework tensorflow \\\n",
        "  --origin $SAVED_MODEL_PATH"
      ]
    },
    {
      "cell_type": "code",
      "execution_count": 29,
      "metadata": {
        "colab": {
          "base_uri": "https://localhost:8080/"
        },
        "id": "7PMsarB59QW-",
        "outputId": "ec03c6bf-9bd5-4c2d-c30e-76af2952d05f"
      },
      "outputs": [
        {
          "data": {
            "text/plain": [
              "array([[0.49333333, 0.10738965, 0.63333333, 0.07421716, 0.05555556,\n",
              "        0.        , 0.        , 0.        , 0.        , 0.        ,\n",
              "        0.        , 0.        , 0.        , 0.        , 0.        ,\n",
              "        0.        , 1.        , 0.        , 0.        , 1.        ,\n",
              "        0.        , 0.        , 0.        , 1.        , 0.        ,\n",
              "        0.        , 1.        , 0.        , 0.        , 1.        ,\n",
              "        1.        , 0.        , 0.        , 0.        , 1.        ,\n",
              "        0.        , 0.        , 0.        , 0.        , 0.        ,\n",
              "        0.        , 0.        , 0.        , 1.        , 0.        ,\n",
              "        0.        , 0.        , 0.        , 0.        , 0.        ,\n",
              "        1.        ]])"
            ]
          },
          "execution_count": 29,
          "metadata": {
            "tags": []
          },
          "output_type": "execute_result"
        }
      ],
      "source": [
        "# TODO -  Test Model\n",
        "X_Test[:1]"
      ]
    },
    {
      "cell_type": "code",
      "execution_count": 30,
      "metadata": {
        "colab": {
          "base_uri": "https://localhost:8080/"
        },
        "id": "9Td4kVYbV7rT",
        "outputId": "0f128366-f75f-483e-edce-f15b9ecd4d3b"
      },
      "outputs": [
        {
          "name": "stdout",
          "output_type": "stream",
          "text": [
            "[0.4933333333333334, 0.1073896507392329, 0.6333333333333333, 0.07421716144774299, 0.05555555555555555, 0.0, 0.0, 0.0, 0.0, 0.0, 0.0, 0.0, 0.0, 0.0, 0.0, 0.0, 1.0, 0.0, 0.0, 1.0, 0.0, 0.0, 0.0, 1.0, 0.0, 0.0, 1.0, 0.0, 0.0, 1.0, 1.0, 0.0, 0.0, 0.0, 1.0, 0.0, 0.0, 0.0, 0.0, 0.0, 0.0, 0.0, 0.0, 1.0, 0.0, 0.0, 0.0, 0.0, 0.0, 0.0, 1.0]\n"
          ]
        }
      ],
      "source": [
        "# Create file with features to send to model\n",
        "with open('test.json', 'w') as f:\n",
        "  for item in X_Test[:1]:\n",
        "    item = list(item)\n",
        "    f.write(\"%s\\n\" % item)\n",
        "! cat test.json"
      ]
    },
    {
      "cell_type": "code",
      "execution_count": 31,
      "metadata": {
        "colab": {
          "base_uri": "https://localhost:8080/"
        },
        "id": "oNv1crZm9ihA",
        "outputId": "ff4ba29e-1215-481f-eb43-d855e78878b9"
      },
      "outputs": [
        {
          "name": "stdout",
          "output_type": "stream",
          "text": [
            "Using endpoint [https://us-central1-ml.googleapis.com/]\n",
            "[[0.987323463, 0.0126765342]]\n"
          ]
        }
      ],
      "source": [
        "! gcloud ai-platform predict \\\n",
        "  --model $MODEL_NAME \\\n",
        "  --version $MODEL_VERSION \\\n",
        "  --json-instances test.json"
      ]
    },
    {
      "cell_type": "code",
      "execution_count": 32,
      "metadata": {
        "id": "jMLKJwmmLtgA"
      },
      "outputs": [],
      "source": [
        "#Retrieve Predicted Value from model\n",
        "shelloutputnew = ! gcloud ai-platform predict \\\n",
        "  --model $MODEL_NAME \\\n",
        "  --version $MODEL_VERSION \\\n",
        "  --json-instances test.json"
      ]
    },
    {
      "cell_type": "code",
      "execution_count": 33,
      "metadata": {
        "colab": {
          "base_uri": "https://localhost:8080/"
        },
        "id": "npTL_DF8N6eI",
        "outputId": "1fb8e639-b95b-4b30-dc43-80dc08331d04"
      },
      "outputs": [
        {
          "name": "stdout",
          "output_type": "stream",
          "text": [
            "Shelloutputnew (Type) :<class 'str'>\n",
            "Output: [[0.987323463, 0.0126765342]]\n",
            "\n",
            "\n"
          ]
        }
      ],
      "source": [
        "# Predicted y-values\n",
        "f = shelloutputnew[1]\n",
        "print('Shelloutputnew (Type) :' + str(type(f)))\n",
        "print('Output: ' + str(f))\n",
        "print('\\n')"
      ]
    },
    {
      "cell_type": "code",
      "execution_count": 34,
      "metadata": {
        "colab": {
          "base_uri": "https://localhost:8080/"
        },
        "id": "TsM6CRiCN-ZT",
        "outputId": "f3e4ada9-a731-4565-8171-0bf84cfeceae"
      },
      "outputs": [
        {
          "name": "stdout",
          "output_type": "stream",
          "text": [
            "f_new_converted (Type): <class 'float'>\n"
          ]
        }
      ],
      "source": [
        "f_new = float(f[2:-20])\n",
        "print('f_new_converted (Type): ' + str(type(f_new)))"
      ]
    },
    {
      "cell_type": "code",
      "execution_count": 35,
      "metadata": {
        "colab": {
          "base_uri": "https://localhost:8080/"
        },
        "id": "cMqgbV0pPr2g",
        "outputId": "25011932-3381-4fc7-fa01-8ac678c8b45a"
      },
      "outputs": [
        {
          "name": "stdout",
          "output_type": "stream",
          "text": [
            "y-predicted: 0 (No)\n"
          ]
        }
      ],
      "source": [
        "range_1 = f_new - 0\n",
        "range_2 = 1- f_new\n",
        "\n",
        "if range_1 > range_2:\n",
        "  print('y-predicted: 0 (No)')\n",
        "\n",
        "elif range_1 < range_2:\n",
        "  print('y-predicted: 1 (Yes)')\n",
        "\n",
        "else:\n",
        "  print('y-predicted: Undecided')"
      ]
    }
  ],
  "metadata": {
    "colab": {
      "collapsed_sections": [],
      "name": "Homework_M8_Marie-Noel Lepage.ipynb",
      "provenance": []
    },
    "kernelspec": {
      "display_name": "Python 3.9.6 64-bit",
      "language": "python",
      "name": "python3"
    },
    "language_info": {
      "name": "python",
      "version": "3.9.6"
    },
    "vscode": {
      "interpreter": {
        "hash": "31f2aee4e71d21fbe5cf8b01ff0e069b9275f58929596ceb00d14d90e3e16cd6"
      }
    }
  },
  "nbformat": 4,
  "nbformat_minor": 0
}
